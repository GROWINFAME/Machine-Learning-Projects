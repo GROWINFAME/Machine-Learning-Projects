{
  "nbformat": 4,
  "nbformat_minor": 0,
  "metadata": {
    "colab": {
      "name": "Prediction-Of-Stock-Price.ipynb",
      "provenance": [],
      "collapsed_sections": []
    },
    "kernelspec": {
      "name": "python3",
      "display_name": "Python 3"
    },
    "accelerator": "GPU"
  },
  "cells": [
    {
      "cell_type": "markdown",
      "metadata": {
        "id": "CsLCrjkLSzMO"
      },
      "source": [
        "# **Prediction Of Stock Price using RNN**\r\n",
        "For this task, the dataset “Daily Historical Stock Prices (1970 - 2018)” was taken from Kaggle. This dataset contains stock prices for several thousand unique stock quotes.\r\n",
        "\r\n",
        "Since there are a lot of quotes, it was decided to choose AAPL. The number of records is 9507 for each feature.\r\n",
        "\r\n",
        "**The dataset contains:**\r\n",
        "1. Ticker - stock quotes (abbreviation)\r\n",
        "2. Open - the price at the start of trading on a particular day \r\n",
        "3. Close - the price at the end of trading on a particular day\r\n",
        "4. Adj_close - \"adjusted\" closing price, that means that all actions with stocks that could have been performed before the opening of the next trading day were added to the closing price of the period.\r\n",
        "5. Low - the lowest price on a particular day\r\n",
        "6. High - the highest price on a particular day\r\n",
        "7. Volume - the number of stocks with which transactions were made on the trading day\r\n",
        "8. Date - the date of the year-month-day format.\r\n",
        "\r\n",
        "For this task, the case was considered when there are several parallel time series, and the value must be predicted for each series. In other words, prediction was performed for each of the 5 features for the next time step. This prediction is called multidimensional."
      ]
    },
    {
      "cell_type": "code",
      "metadata": {
        "id": "WZUrhK0rS1IY"
      },
      "source": [
        "# Installing kaggle to load the dataset \r\n",
        "!pip install kaggle"
      ],
      "execution_count": null,
      "outputs": []
    },
    {
      "cell_type": "code",
      "metadata": {
        "id": "l-q2DwgFHGtu",
        "colab": {
          "base_uri": "https://localhost:8080/",
          "height": 35
        },
        "outputId": "32870bb8-f114-4d70-8f2a-b2b31963474e"
      },
      "source": [
        "# Connection to Google Drive\n",
        "from google.colab import drive\n",
        "drive.mount('/content/gdrive')"
      ],
      "execution_count": null,
      "outputs": [
        {
          "output_type": "stream",
          "text": [
            "Drive already mounted at /content/gdrive; to attempt to forcibly remount, call drive.mount(\"/content/gdrive\", force_remount=True).\n"
          ],
          "name": "stdout"
        }
      ]
    },
    {
      "cell_type": "code",
      "metadata": {
        "id": "x6KdJyZfHJll"
      },
      "source": [
        "import os\n",
        "os.environ['KAGGLE_CONFIG_DIR'] = \"/content/gdrive/My Drive/Kaggle\""
      ],
      "execution_count": null,
      "outputs": []
    },
    {
      "cell_type": "code",
      "metadata": {
        "id": "Fekq2LoRHNN2",
        "colab": {
          "base_uri": "https://localhost:8080/",
          "height": 35
        },
        "outputId": "b0304fd2-1b32-49d4-cb5d-eb1890475126"
      },
      "source": [
        "# Change the working directory to Google Drive. \n",
        "%cd /content/gdrive/My Drive/Kaggle"
      ],
      "execution_count": null,
      "outputs": [
        {
          "output_type": "stream",
          "text": [
            "/content/gdrive/My Drive/Kaggle\n"
          ],
          "name": "stdout"
        }
      ]
    },
    {
      "cell_type": "code",
      "metadata": {
        "id": "rooUWzeTjNrg"
      },
      "source": [
        "# Loading dataset from Kaggle\n",
        "!kaggle datasets download -d ehallmar/daily-historical-stock-prices-1970-2018"
      ],
      "execution_count": null,
      "outputs": []
    },
    {
      "cell_type": "code",
      "metadata": {
        "id": "30kB3XDNHQSF"
      },
      "source": [
        "# Unzipping and removing the archive \n",
        "!unzip \\*.zip  && rm *.zip"
      ],
      "execution_count": null,
      "outputs": []
    },
    {
      "cell_type": "code",
      "metadata": {
        "id": "G75rqu0WIJs5",
        "colab": {
          "base_uri": "https://localhost:8080/",
          "height": 565
        },
        "outputId": "94ef2e20-373e-470f-c914-e3104c1904be"
      },
      "source": [
        "#Import the required libraries\n",
        "!pip install -U keras-tuner\n",
        "%tensorflow_version 2.x\n",
        "import tensorflow as tf\n",
        "import pandas as pd\n",
        "import matplotlib.pyplot as plt\n",
        "import numpy as np\n",
        "from sklearn.preprocessing import MinMaxScaler\n",
        "from tensorflow.keras.models import Sequential\n",
        "from tensorflow.keras.layers import LSTM, Dense\n",
        "from tensorflow.keras.callbacks import EarlyStopping\n",
        "from kerastuner.tuners import RandomSearch\n",
        "from kerastuner import Objective"
      ],
      "execution_count": null,
      "outputs": [
        {
          "output_type": "stream",
          "text": [
            "Collecting keras-tuner\n",
            "\u001b[?25l  Downloading https://files.pythonhosted.org/packages/a7/f7/4b41b6832abf4c9bef71a664dc563adb25afc5812831667c6db572b1a261/keras-tuner-1.0.1.tar.gz (54kB)\n",
            "\r\u001b[K     |██████                          | 10kB 25.1MB/s eta 0:00:01\r\u001b[K     |████████████                    | 20kB 1.0MB/s eta 0:00:01\r\u001b[K     |██████████████████              | 30kB 1.4MB/s eta 0:00:01\r\u001b[K     |████████████████████████        | 40kB 1.6MB/s eta 0:00:01\r\u001b[K     |██████████████████████████████  | 51kB 1.2MB/s eta 0:00:01\r\u001b[K     |████████████████████████████████| 61kB 1.3MB/s \n",
            "\u001b[?25hRequirement already satisfied, skipping upgrade: future in /usr/local/lib/python3.6/dist-packages (from keras-tuner) (0.16.0)\n",
            "Requirement already satisfied, skipping upgrade: numpy in /usr/local/lib/python3.6/dist-packages (from keras-tuner) (1.18.5)\n",
            "Requirement already satisfied, skipping upgrade: tabulate in /usr/local/lib/python3.6/dist-packages (from keras-tuner) (0.8.7)\n",
            "Collecting terminaltables\n",
            "  Downloading https://files.pythonhosted.org/packages/9b/c4/4a21174f32f8a7e1104798c445dacdc1d4df86f2f26722767034e4de4bff/terminaltables-3.1.0.tar.gz\n",
            "Collecting colorama\n",
            "  Downloading https://files.pythonhosted.org/packages/c9/dc/45cdef1b4d119eb96316b3117e6d5708a08029992b2fee2c143c7a0a5cc5/colorama-0.4.3-py2.py3-none-any.whl\n",
            "Requirement already satisfied, skipping upgrade: tqdm in /usr/local/lib/python3.6/dist-packages (from keras-tuner) (4.41.1)\n",
            "Requirement already satisfied, skipping upgrade: requests in /usr/local/lib/python3.6/dist-packages (from keras-tuner) (2.23.0)\n",
            "Requirement already satisfied, skipping upgrade: scipy in /usr/local/lib/python3.6/dist-packages (from keras-tuner) (1.4.1)\n",
            "Requirement already satisfied, skipping upgrade: scikit-learn in /usr/local/lib/python3.6/dist-packages (from keras-tuner) (0.22.2.post1)\n",
            "Requirement already satisfied, skipping upgrade: idna<3,>=2.5 in /usr/local/lib/python3.6/dist-packages (from requests->keras-tuner) (2.10)\n",
            "Requirement already satisfied, skipping upgrade: urllib3!=1.25.0,!=1.25.1,<1.26,>=1.21.1 in /usr/local/lib/python3.6/dist-packages (from requests->keras-tuner) (1.24.3)\n",
            "Requirement already satisfied, skipping upgrade: certifi>=2017.4.17 in /usr/local/lib/python3.6/dist-packages (from requests->keras-tuner) (2020.6.20)\n",
            "Requirement already satisfied, skipping upgrade: chardet<4,>=3.0.2 in /usr/local/lib/python3.6/dist-packages (from requests->keras-tuner) (3.0.4)\n",
            "Requirement already satisfied, skipping upgrade: joblib>=0.11 in /usr/local/lib/python3.6/dist-packages (from scikit-learn->keras-tuner) (0.16.0)\n",
            "Building wheels for collected packages: keras-tuner, terminaltables\n",
            "  Building wheel for keras-tuner (setup.py) ... \u001b[?25l\u001b[?25hdone\n",
            "  Created wheel for keras-tuner: filename=keras_tuner-1.0.1-cp36-none-any.whl size=73200 sha256=f4312e881d5fc164b64f4a6523965010b9d62c0c4030778a67fc581c3bb2ed80\n",
            "  Stored in directory: /root/.cache/pip/wheels/b9/cc/62/52716b70dd90f3db12519233c3a93a5360bc672da1a10ded43\n",
            "  Building wheel for terminaltables (setup.py) ... \u001b[?25l\u001b[?25hdone\n",
            "  Created wheel for terminaltables: filename=terminaltables-3.1.0-cp36-none-any.whl size=15356 sha256=5d51a7debc93d57ce2ed3c267ea15e0d6c67e52f89ba433c6b65fb36babcd945\n",
            "  Stored in directory: /root/.cache/pip/wheels/30/6b/50/6c75775b681fb36cdfac7f19799888ef9d8813aff9e379663e\n",
            "Successfully built keras-tuner terminaltables\n",
            "Installing collected packages: terminaltables, colorama, keras-tuner\n",
            "Successfully installed colorama-0.4.3 keras-tuner-1.0.1 terminaltables-3.1.0\n"
          ],
          "name": "stdout"
        }
      ]
    },
    {
      "cell_type": "code",
      "metadata": {
        "id": "wTB0lIpNIguz"
      },
      "source": [
        "missing_values = [\"n/a\", \"na\", \"--\"] # array of possible missing and null values\n",
        "df_old = pd.read_csv('./historical_stock_prices.csv', na_values = missing_values) # loading dataset using pandas \n",
        "df = df_old.loc[(df_old['ticker']=='AAPL')] # choosing only AAPL stock\n",
        "date_time = df['date'] # saving dates\n",
        "df = df.drop(['ticker', 'date', 'volume'], axis=1) # removing unnecessary columns"
      ],
      "execution_count": null,
      "outputs": []
    },
    {
      "cell_type": "code",
      "metadata": {
        "id": "T2xeEgUfIN6o",
        "colab": {
          "base_uri": "https://localhost:8080/",
          "height": 35
        },
        "outputId": "99242c50-0504-494a-a043-590cf1b704d9"
      },
      "source": [
        "# Checking for missing and null values in a dataset\n",
        "df_old.isnull().values.any()"
      ],
      "execution_count": null,
      "outputs": [
        {
          "output_type": "execute_result",
          "data": {
            "text/plain": [
              "False"
            ]
          },
          "metadata": {
            "tags": []
          },
          "execution_count": 9
        }
      ]
    },
    {
      "cell_type": "code",
      "metadata": {
        "id": "a6vyxzfRJSOK",
        "colab": {
          "base_uri": "https://localhost:8080/",
          "height": 198
        },
        "outputId": "2a13d842-b3b9-4740-d5cd-095140a52ac4"
      },
      "source": [
        "df_old.head() # showing the first 5 rows of the dataset"
      ],
      "execution_count": null,
      "outputs": [
        {
          "output_type": "execute_result",
          "data": {
            "text/html": [
              "<div>\n",
              "<style scoped>\n",
              "    .dataframe tbody tr th:only-of-type {\n",
              "        vertical-align: middle;\n",
              "    }\n",
              "\n",
              "    .dataframe tbody tr th {\n",
              "        vertical-align: top;\n",
              "    }\n",
              "\n",
              "    .dataframe thead th {\n",
              "        text-align: right;\n",
              "    }\n",
              "</style>\n",
              "<table border=\"1\" class=\"dataframe\">\n",
              "  <thead>\n",
              "    <tr style=\"text-align: right;\">\n",
              "      <th></th>\n",
              "      <th>ticker</th>\n",
              "      <th>open</th>\n",
              "      <th>close</th>\n",
              "      <th>adj_close</th>\n",
              "      <th>low</th>\n",
              "      <th>high</th>\n",
              "      <th>volume</th>\n",
              "      <th>date</th>\n",
              "    </tr>\n",
              "  </thead>\n",
              "  <tbody>\n",
              "    <tr>\n",
              "      <th>0</th>\n",
              "      <td>AHH</td>\n",
              "      <td>11.50</td>\n",
              "      <td>11.58</td>\n",
              "      <td>8.493155</td>\n",
              "      <td>11.25</td>\n",
              "      <td>11.68</td>\n",
              "      <td>4633900</td>\n",
              "      <td>2013-05-08</td>\n",
              "    </tr>\n",
              "    <tr>\n",
              "      <th>1</th>\n",
              "      <td>AHH</td>\n",
              "      <td>11.66</td>\n",
              "      <td>11.55</td>\n",
              "      <td>8.471151</td>\n",
              "      <td>11.50</td>\n",
              "      <td>11.66</td>\n",
              "      <td>275800</td>\n",
              "      <td>2013-05-09</td>\n",
              "    </tr>\n",
              "    <tr>\n",
              "      <th>2</th>\n",
              "      <td>AHH</td>\n",
              "      <td>11.55</td>\n",
              "      <td>11.60</td>\n",
              "      <td>8.507822</td>\n",
              "      <td>11.50</td>\n",
              "      <td>11.60</td>\n",
              "      <td>277100</td>\n",
              "      <td>2013-05-10</td>\n",
              "    </tr>\n",
              "    <tr>\n",
              "      <th>3</th>\n",
              "      <td>AHH</td>\n",
              "      <td>11.63</td>\n",
              "      <td>11.65</td>\n",
              "      <td>8.544494</td>\n",
              "      <td>11.55</td>\n",
              "      <td>11.65</td>\n",
              "      <td>147400</td>\n",
              "      <td>2013-05-13</td>\n",
              "    </tr>\n",
              "    <tr>\n",
              "      <th>4</th>\n",
              "      <td>AHH</td>\n",
              "      <td>11.60</td>\n",
              "      <td>11.53</td>\n",
              "      <td>8.456484</td>\n",
              "      <td>11.50</td>\n",
              "      <td>11.60</td>\n",
              "      <td>184100</td>\n",
              "      <td>2013-05-14</td>\n",
              "    </tr>\n",
              "  </tbody>\n",
              "</table>\n",
              "</div>"
            ],
            "text/plain": [
              "  ticker   open  close  adj_close    low   high   volume        date\n",
              "0    AHH  11.50  11.58   8.493155  11.25  11.68  4633900  2013-05-08\n",
              "1    AHH  11.66  11.55   8.471151  11.50  11.66   275800  2013-05-09\n",
              "2    AHH  11.55  11.60   8.507822  11.50  11.60   277100  2013-05-10\n",
              "3    AHH  11.63  11.65   8.544494  11.55  11.65   147400  2013-05-13\n",
              "4    AHH  11.60  11.53   8.456484  11.50  11.60   184100  2013-05-14"
            ]
          },
          "metadata": {
            "tags": []
          },
          "execution_count": 10
        }
      ]
    },
    {
      "cell_type": "code",
      "metadata": {
        "id": "buRqHnRBJju9",
        "colab": {
          "base_uri": "https://localhost:8080/",
          "height": 198
        },
        "outputId": "e091f13b-6bdf-4b71-d250-5f1f1586cc47"
      },
      "source": [
        "# showing the basic statistical characteristics of the data for each numerical characteristic for analyzing the possible presence of conflicting data. \n",
        "df.describe().transpose()"
      ],
      "execution_count": null,
      "outputs": [
        {
          "output_type": "execute_result",
          "data": {
            "text/html": [
              "<div>\n",
              "<style scoped>\n",
              "    .dataframe tbody tr th:only-of-type {\n",
              "        vertical-align: middle;\n",
              "    }\n",
              "\n",
              "    .dataframe tbody tr th {\n",
              "        vertical-align: top;\n",
              "    }\n",
              "\n",
              "    .dataframe thead th {\n",
              "        text-align: right;\n",
              "    }\n",
              "</style>\n",
              "<table border=\"1\" class=\"dataframe\">\n",
              "  <thead>\n",
              "    <tr style=\"text-align: right;\">\n",
              "      <th></th>\n",
              "      <th>count</th>\n",
              "      <th>mean</th>\n",
              "      <th>std</th>\n",
              "      <th>min</th>\n",
              "      <th>25%</th>\n",
              "      <th>50%</th>\n",
              "      <th>75%</th>\n",
              "      <th>max</th>\n",
              "    </tr>\n",
              "  </thead>\n",
              "  <tbody>\n",
              "    <tr>\n",
              "      <th>open</th>\n",
              "      <td>9507.0</td>\n",
              "      <td>24.687907</td>\n",
              "      <td>43.895625</td>\n",
              "      <td>0.198661</td>\n",
              "      <td>1.044643</td>\n",
              "      <td>1.651786</td>\n",
              "      <td>24.447144</td>\n",
              "      <td>218.100006</td>\n",
              "    </tr>\n",
              "    <tr>\n",
              "      <th>close</th>\n",
              "      <td>9507.0</td>\n",
              "      <td>24.687426</td>\n",
              "      <td>43.906561</td>\n",
              "      <td>0.196429</td>\n",
              "      <td>1.044643</td>\n",
              "      <td>1.654018</td>\n",
              "      <td>24.300714</td>\n",
              "      <td>217.580002</td>\n",
              "    </tr>\n",
              "    <tr>\n",
              "      <th>adj_close</th>\n",
              "      <td>9507.0</td>\n",
              "      <td>21.123911</td>\n",
              "      <td>41.743771</td>\n",
              "      <td>0.008871</td>\n",
              "      <td>0.145975</td>\n",
              "      <td>0.871499</td>\n",
              "      <td>16.330062</td>\n",
              "      <td>217.580002</td>\n",
              "    </tr>\n",
              "    <tr>\n",
              "      <th>low</th>\n",
              "      <td>9507.0</td>\n",
              "      <td>24.441421</td>\n",
              "      <td>43.540175</td>\n",
              "      <td>0.196429</td>\n",
              "      <td>1.025714</td>\n",
              "      <td>1.620536</td>\n",
              "      <td>24.013572</td>\n",
              "      <td>215.110001</td>\n",
              "    </tr>\n",
              "    <tr>\n",
              "      <th>high</th>\n",
              "      <td>9507.0</td>\n",
              "      <td>24.921086</td>\n",
              "      <td>44.249041</td>\n",
              "      <td>0.198661</td>\n",
              "      <td>1.066429</td>\n",
              "      <td>1.681429</td>\n",
              "      <td>24.767858</td>\n",
              "      <td>219.179993</td>\n",
              "    </tr>\n",
              "  </tbody>\n",
              "</table>\n",
              "</div>"
            ],
            "text/plain": [
              "            count       mean        std  ...       50%        75%         max\n",
              "open       9507.0  24.687907  43.895625  ...  1.651786  24.447144  218.100006\n",
              "close      9507.0  24.687426  43.906561  ...  1.654018  24.300714  217.580002\n",
              "adj_close  9507.0  21.123911  41.743771  ...  0.871499  16.330062  217.580002\n",
              "low        9507.0  24.441421  43.540175  ...  1.620536  24.013572  215.110001\n",
              "high       9507.0  24.921086  44.249041  ...  1.681429  24.767858  219.179993\n",
              "\n",
              "[5 rows x 8 columns]"
            ]
          },
          "metadata": {
            "tags": []
          },
          "execution_count": 11
        }
      ]
    },
    {
      "cell_type": "code",
      "metadata": {
        "id": "QzysGDeZJ7Ae"
      },
      "source": [
        "# Data scaling\n",
        "# (so that the convergence of the neural network will be faster\n",
        "# and one significant number in the data does not affect the model only because of its large value)\n",
        "sc = MinMaxScaler()\n",
        "df_norm = sc.fit_transform(df)"
      ],
      "execution_count": null,
      "outputs": []
    },
    {
      "cell_type": "code",
      "metadata": {
        "id": "1gKsS_FYSSJi"
      },
      "source": [
        "# Splitting the data into training and test\n",
        "n = len(df)\n",
        "train_df = df_norm[0:int(n*0.9)]\n",
        "test_df = df_norm[int(n*0.9):]"
      ],
      "execution_count": null,
      "outputs": []
    },
    {
      "cell_type": "code",
      "metadata": {
        "id": "SoLIRPBoKjMy"
      },
      "source": [
        "# Splitting a multidimensional sequence\n",
        "# (it splits a given multidimensional sequence into multiple samples for each feature,\n",
        "# where each sample has a given number of time steps (60 days in this case) and the output is a single time step)  \n",
        "def split_sequences(sequences, n_steps_back):\n",
        "  X, y = [], []\n",
        "  for i in range(n_steps_back, len(sequences)):\n",
        "      X.append(sequences[i-n_steps_back : i, :])\n",
        "      y.append(sequences[i, :])\n",
        "  return np.array(X), np.array(y)"
      ],
      "execution_count": null,
      "outputs": []
    },
    {
      "cell_type": "code",
      "metadata": {
        "id": "OVAXj0bYM8Sd"
      },
      "source": [
        "num_steps_back = 60 # time step: 60 days \n",
        "num_features = len(df.columns) # number of features\n",
        "X, y = split_sequences(train_df, num_steps_back) # training X и Y data\n",
        "test_X, test_Y = split_sequences(test_df, num_steps_back) # test X и Y data"
      ],
      "execution_count": null,
      "outputs": []
    },
    {
      "cell_type": "code",
      "metadata": {
        "id": "mNiDgiw0yEPV"
      },
      "source": [
        "# Building a Model for Hyperparameter tuning\n",
        "def build_model(hp):\n",
        "    model = Sequential() \n",
        "    model.add(LSTM(units=hp.Int('layer_input',\n",
        "                                   min_value=32,\n",
        "                                   max_value=256,\n",
        "                                   step=32),\n",
        "                   return_sequences=True,\n",
        "                   input_shape=(num_steps_back, num_features)))\n",
        "    model.add(LSTM(units=hp.Int('layer_output',\n",
        "                                   min_value=32,\n",
        "                                   max_value=256,\n",
        "                                   step=32),\n",
        "                   input_shape=(num_steps_back, num_features)))\n",
        "    model.add(Dense(num_features))\n",
        "    model.compile(optimizer='adam', loss='mse')\n",
        "    return model"
      ],
      "execution_count": null,
      "outputs": []
    },
    {
      "cell_type": "code",
      "metadata": {
        "id": "dJhwczlWIZ09"
      },
      "source": [
        "# Removing previously created files for next tuner launches. \n",
        "!rm './untitled_project/oracle.json'\n",
        "!rm './untitled_project/tuner0.json'"
      ],
      "execution_count": null,
      "outputs": []
    },
    {
      "cell_type": "code",
      "metadata": {
        "id": "8QatXRbVzlOI",
        "colab": {
          "base_uri": "https://localhost:8080/",
          "height": 317
        },
        "outputId": "f869f63d-444b-439a-aa14-eee7b77ceb6e"
      },
      "source": [
        "# Setting up a Random Search that randomly selects hyperparameters\n",
        "tuner = RandomSearch(\n",
        "    build_model,                 # function of building the model\n",
        "    Objective('val_loss',direction='min'),    # metric for optimization \n",
        "    max_trials=64,               # maximum number of training iterations\n",
        "    )\n",
        "tuner.search_space_summary()"
      ],
      "execution_count": null,
      "outputs": [
        {
          "output_type": "display_data",
          "data": {
            "text/html": [
              "<span style=\"color:#4527A0\"><h1 style=\"font-size:18px\">Search space summary</h1></span>"
            ],
            "text/plain": [
              "<IPython.core.display.HTML object>"
            ]
          },
          "metadata": {
            "tags": []
          }
        },
        {
          "output_type": "display_data",
          "data": {
            "text/html": [
              "<span style=\"color:cyan\"> |-Default search space size: 2</span>"
            ],
            "text/plain": [
              "<IPython.core.display.HTML object>"
            ]
          },
          "metadata": {
            "tags": []
          }
        },
        {
          "output_type": "display_data",
          "data": {
            "text/html": [
              "<span style=\"color:#7E57C2\"><h2 style=\"font-size:16px\">layer_input (Int)</h2></span>"
            ],
            "text/plain": [
              "<IPython.core.display.HTML object>"
            ]
          },
          "metadata": {
            "tags": []
          }
        },
        {
          "output_type": "display_data",
          "data": {
            "text/html": [
              "<span style=\"color:cyan\"> |-default: None</span>"
            ],
            "text/plain": [
              "<IPython.core.display.HTML object>"
            ]
          },
          "metadata": {
            "tags": []
          }
        },
        {
          "output_type": "display_data",
          "data": {
            "text/html": [
              "<span style=\"color:blue\"> |-max_value: 256</span>"
            ],
            "text/plain": [
              "<IPython.core.display.HTML object>"
            ]
          },
          "metadata": {
            "tags": []
          }
        },
        {
          "output_type": "display_data",
          "data": {
            "text/html": [
              "<span style=\"color:cyan\"> |-min_value: 32</span>"
            ],
            "text/plain": [
              "<IPython.core.display.HTML object>"
            ]
          },
          "metadata": {
            "tags": []
          }
        },
        {
          "output_type": "display_data",
          "data": {
            "text/html": [
              "<span style=\"color:blue\"> |-sampling: None</span>"
            ],
            "text/plain": [
              "<IPython.core.display.HTML object>"
            ]
          },
          "metadata": {
            "tags": []
          }
        },
        {
          "output_type": "display_data",
          "data": {
            "text/html": [
              "<span style=\"color:cyan\"> |-step: 32</span>"
            ],
            "text/plain": [
              "<IPython.core.display.HTML object>"
            ]
          },
          "metadata": {
            "tags": []
          }
        },
        {
          "output_type": "display_data",
          "data": {
            "text/html": [
              "<span style=\"color:#7E57C2\"><h2 style=\"font-size:16px\">layer_output (Int)</h2></span>"
            ],
            "text/plain": [
              "<IPython.core.display.HTML object>"
            ]
          },
          "metadata": {
            "tags": []
          }
        },
        {
          "output_type": "display_data",
          "data": {
            "text/html": [
              "<span style=\"color:cyan\"> |-default: None</span>"
            ],
            "text/plain": [
              "<IPython.core.display.HTML object>"
            ]
          },
          "metadata": {
            "tags": []
          }
        },
        {
          "output_type": "display_data",
          "data": {
            "text/html": [
              "<span style=\"color:blue\"> |-max_value: 256</span>"
            ],
            "text/plain": [
              "<IPython.core.display.HTML object>"
            ]
          },
          "metadata": {
            "tags": []
          }
        },
        {
          "output_type": "display_data",
          "data": {
            "text/html": [
              "<span style=\"color:cyan\"> |-min_value: 32</span>"
            ],
            "text/plain": [
              "<IPython.core.display.HTML object>"
            ]
          },
          "metadata": {
            "tags": []
          }
        },
        {
          "output_type": "display_data",
          "data": {
            "text/html": [
              "<span style=\"color:blue\"> |-sampling: None</span>"
            ],
            "text/plain": [
              "<IPython.core.display.HTML object>"
            ]
          },
          "metadata": {
            "tags": []
          }
        },
        {
          "output_type": "display_data",
          "data": {
            "text/html": [
              "<span style=\"color:cyan\"> |-step: 32</span>"
            ],
            "text/plain": [
              "<IPython.core.display.HTML object>"
            ]
          },
          "metadata": {
            "tags": []
          }
        }
      ]
    },
    {
      "cell_type": "code",
      "metadata": {
        "id": "W1BYfWnB1xlE",
        "colab": {
          "base_uri": "https://localhost:8080/",
          "height": 1000
        },
        "outputId": "aee82a40-1bb3-4c1a-ac2a-e88081ac55ca"
      },
      "source": [
        "# Using the EarlyStopping to prevent overfitting \n",
        "es = EarlyStopping(monitor='val_loss', mode='min', verbose=1, patience=3, restore_best_weights=True)\n",
        "callbacks_list = [es]\n",
        "\n",
        "# Launching the tuner\n",
        "tuner.search(X,                  # Training data\n",
        "             y,                  # Y of training data\n",
        "             epochs=7,                # Number of epochs\n",
        "             validation_split=0.1, # Validation data - the 0.1 of the training data\n",
        "             callbacks=callbacks_list\n",
        "             )"
      ],
      "execution_count": null,
      "outputs": [
        {
          "output_type": "stream",
          "text": [
            "Epoch 1/7\n",
            "239/239 [==============================] - 3s 14ms/step - loss: 4.2554e-05 - val_loss: 8.0809e-04\n",
            "Epoch 2/7\n",
            "239/239 [==============================] - 2s 10ms/step - loss: 8.5467e-06 - val_loss: 7.3778e-04\n",
            "Epoch 3/7\n",
            "239/239 [==============================] - 2s 10ms/step - loss: 8.2406e-06 - val_loss: 4.1075e-04\n",
            "Epoch 4/7\n",
            "239/239 [==============================] - 2s 10ms/step - loss: 5.7154e-06 - val_loss: 4.4967e-04\n",
            "Epoch 5/7\n",
            "239/239 [==============================] - 2s 10ms/step - loss: 5.2108e-06 - val_loss: 4.3403e-04\n",
            "Epoch 6/7\n",
            "237/239 [============================>.] - ETA: 0s - loss: 5.7147e-06Restoring model weights from the end of the best epoch.\n",
            "239/239 [==============================] - 2s 10ms/step - loss: 5.6993e-06 - val_loss: 4.4620e-04\n",
            "Epoch 00006: early stopping\n"
          ],
          "name": "stdout"
        },
        {
          "output_type": "display_data",
          "data": {
            "text/html": [
              "<span style=\"color:#4527A0\"><h1 style=\"font-size:18px\">Trial complete</h1></span>"
            ],
            "text/plain": [
              "<IPython.core.display.HTML object>"
            ]
          },
          "metadata": {
            "tags": []
          }
        },
        {
          "output_type": "display_data",
          "data": {
            "text/html": [
              "<span style=\"color:#4527A0\"><h1 style=\"font-size:18px\">Trial summary</h1></span>"
            ],
            "text/plain": [
              "<IPython.core.display.HTML object>"
            ]
          },
          "metadata": {
            "tags": []
          }
        },
        {
          "output_type": "display_data",
          "data": {
            "text/html": [
              "<span style=\"color:cyan\"> |-Trial ID: a06b32c0f9504e66a11f1cd7762c56d8</span>"
            ],
            "text/plain": [
              "<IPython.core.display.HTML object>"
            ]
          },
          "metadata": {
            "tags": []
          }
        },
        {
          "output_type": "display_data",
          "data": {
            "text/html": [
              "<span style=\"color:cyan\"> |-Score: 0.0004107500135432929</span>"
            ],
            "text/plain": [
              "<IPython.core.display.HTML object>"
            ]
          },
          "metadata": {
            "tags": []
          }
        },
        {
          "output_type": "display_data",
          "data": {
            "text/html": [
              "<span style=\"color:cyan\"> |-Best step: 0</span>"
            ],
            "text/plain": [
              "<IPython.core.display.HTML object>"
            ]
          },
          "metadata": {
            "tags": []
          }
        },
        {
          "output_type": "display_data",
          "data": {
            "text/html": [
              "<span style=\"color:#7E57C2\"><h2 style=\"font-size:16px\">Hyperparameters:</h2></span>"
            ],
            "text/plain": [
              "<IPython.core.display.HTML object>"
            ]
          },
          "metadata": {
            "tags": []
          }
        },
        {
          "output_type": "display_data",
          "data": {
            "text/html": [
              "<span style=\"color:cyan\"> |-layer_input: 64</span>"
            ],
            "text/plain": [
              "<IPython.core.display.HTML object>"
            ]
          },
          "metadata": {
            "tags": []
          }
        },
        {
          "output_type": "display_data",
          "data": {
            "text/html": [
              "<span style=\"color:blue\"> |-layer_output: 224</span>"
            ],
            "text/plain": [
              "<IPython.core.display.HTML object>"
            ]
          },
          "metadata": {
            "tags": []
          }
        },
        {
          "output_type": "stream",
          "text": [
            "Epoch 1/7\n",
            "239/239 [==============================] - 3s 13ms/step - loss: 3.9011e-05 - val_loss: 8.0792e-04\n",
            "Epoch 2/7\n",
            "239/239 [==============================] - 2s 10ms/step - loss: 7.3341e-06 - val_loss: 0.0010\n",
            "Epoch 3/7\n",
            "239/239 [==============================] - 2s 10ms/step - loss: 6.1372e-06 - val_loss: 5.2742e-04\n",
            "Epoch 4/7\n",
            "239/239 [==============================] - 2s 10ms/step - loss: 4.9115e-06 - val_loss: 5.9618e-04\n",
            "Epoch 5/7\n",
            "239/239 [==============================] - 2s 10ms/step - loss: 4.8257e-06 - val_loss: 5.2590e-04\n",
            "Epoch 6/7\n",
            "239/239 [==============================] - 2s 10ms/step - loss: 5.2711e-06 - val_loss: 4.5299e-04\n",
            "Epoch 7/7\n",
            "239/239 [==============================] - 3s 11ms/step - loss: 3.8571e-06 - val_loss: 4.0508e-04\n"
          ],
          "name": "stdout"
        },
        {
          "output_type": "display_data",
          "data": {
            "text/html": [
              "<span style=\"color:#4527A0\"><h1 style=\"font-size:18px\">Trial complete</h1></span>"
            ],
            "text/plain": [
              "<IPython.core.display.HTML object>"
            ]
          },
          "metadata": {
            "tags": []
          }
        },
        {
          "output_type": "display_data",
          "data": {
            "text/html": [
              "<span style=\"color:#4527A0\"><h1 style=\"font-size:18px\">Trial summary</h1></span>"
            ],
            "text/plain": [
              "<IPython.core.display.HTML object>"
            ]
          },
          "metadata": {
            "tags": []
          }
        },
        {
          "output_type": "display_data",
          "data": {
            "text/html": [
              "<span style=\"color:cyan\"> |-Trial ID: 3936c44096e4d7eadb5c2da27f6f3dc0</span>"
            ],
            "text/plain": [
              "<IPython.core.display.HTML object>"
            ]
          },
          "metadata": {
            "tags": []
          }
        },
        {
          "output_type": "display_data",
          "data": {
            "text/html": [
              "<span style=\"color:cyan\"> |-Score: 0.0004050832649227232</span>"
            ],
            "text/plain": [
              "<IPython.core.display.HTML object>"
            ]
          },
          "metadata": {
            "tags": []
          }
        },
        {
          "output_type": "display_data",
          "data": {
            "text/html": [
              "<span style=\"color:cyan\"> |-Best step: 0</span>"
            ],
            "text/plain": [
              "<IPython.core.display.HTML object>"
            ]
          },
          "metadata": {
            "tags": []
          }
        },
        {
          "output_type": "display_data",
          "data": {
            "text/html": [
              "<span style=\"color:#7E57C2\"><h2 style=\"font-size:16px\">Hyperparameters:</h2></span>"
            ],
            "text/plain": [
              "<IPython.core.display.HTML object>"
            ]
          },
          "metadata": {
            "tags": []
          }
        },
        {
          "output_type": "display_data",
          "data": {
            "text/html": [
              "<span style=\"color:cyan\"> |-layer_input: 64</span>"
            ],
            "text/plain": [
              "<IPython.core.display.HTML object>"
            ]
          },
          "metadata": {
            "tags": []
          }
        },
        {
          "output_type": "display_data",
          "data": {
            "text/html": [
              "<span style=\"color:blue\"> |-layer_output: 256</span>"
            ],
            "text/plain": [
              "<IPython.core.display.HTML object>"
            ]
          },
          "metadata": {
            "tags": []
          }
        },
        {
          "output_type": "stream",
          "text": [
            "Epoch 1/7\n",
            "239/239 [==============================] - 3s 13ms/step - loss: 4.9218e-05 - val_loss: 0.0013\n",
            "Epoch 2/7\n",
            "239/239 [==============================] - 2s 10ms/step - loss: 7.5113e-06 - val_loss: 5.5084e-04\n",
            "Epoch 3/7\n",
            "239/239 [==============================] - 2s 10ms/step - loss: 7.4086e-06 - val_loss: 6.7201e-04\n",
            "Epoch 4/7\n",
            "239/239 [==============================] - 2s 10ms/step - loss: 5.7333e-06 - val_loss: 5.0156e-04\n",
            "Epoch 5/7\n",
            "239/239 [==============================] - 2s 10ms/step - loss: 5.6051e-06 - val_loss: 4.3150e-04\n",
            "Epoch 6/7\n",
            "239/239 [==============================] - 2s 10ms/step - loss: 4.8222e-06 - val_loss: 3.8485e-04\n",
            "Epoch 7/7\n",
            "239/239 [==============================] - 2s 10ms/step - loss: 4.8186e-06 - val_loss: 3.6651e-04\n"
          ],
          "name": "stdout"
        },
        {
          "output_type": "display_data",
          "data": {
            "text/html": [
              "<span style=\"color:#4527A0\"><h1 style=\"font-size:18px\">Trial complete</h1></span>"
            ],
            "text/plain": [
              "<IPython.core.display.HTML object>"
            ]
          },
          "metadata": {
            "tags": []
          }
        },
        {
          "output_type": "display_data",
          "data": {
            "text/html": [
              "<span style=\"color:#4527A0\"><h1 style=\"font-size:18px\">Trial summary</h1></span>"
            ],
            "text/plain": [
              "<IPython.core.display.HTML object>"
            ]
          },
          "metadata": {
            "tags": []
          }
        },
        {
          "output_type": "display_data",
          "data": {
            "text/html": [
              "<span style=\"color:cyan\"> |-Trial ID: 0894390a9c9714bd04e21ac2578950ba</span>"
            ],
            "text/plain": [
              "<IPython.core.display.HTML object>"
            ]
          },
          "metadata": {
            "tags": []
          }
        },
        {
          "output_type": "display_data",
          "data": {
            "text/html": [
              "<span style=\"color:cyan\"> |-Score: 0.0003665113472379744</span>"
            ],
            "text/plain": [
              "<IPython.core.display.HTML object>"
            ]
          },
          "metadata": {
            "tags": []
          }
        },
        {
          "output_type": "display_data",
          "data": {
            "text/html": [
              "<span style=\"color:cyan\"> |-Best step: 0</span>"
            ],
            "text/plain": [
              "<IPython.core.display.HTML object>"
            ]
          },
          "metadata": {
            "tags": []
          }
        },
        {
          "output_type": "display_data",
          "data": {
            "text/html": [
              "<span style=\"color:#7E57C2\"><h2 style=\"font-size:16px\">Hyperparameters:</h2></span>"
            ],
            "text/plain": [
              "<IPython.core.display.HTML object>"
            ]
          },
          "metadata": {
            "tags": []
          }
        },
        {
          "output_type": "display_data",
          "data": {
            "text/html": [
              "<span style=\"color:cyan\"> |-layer_input: 64</span>"
            ],
            "text/plain": [
              "<IPython.core.display.HTML object>"
            ]
          },
          "metadata": {
            "tags": []
          }
        },
        {
          "output_type": "display_data",
          "data": {
            "text/html": [
              "<span style=\"color:blue\"> |-layer_output: 32</span>"
            ],
            "text/plain": [
              "<IPython.core.display.HTML object>"
            ]
          },
          "metadata": {
            "tags": []
          }
        },
        {
          "output_type": "stream",
          "text": [
            "Epoch 1/7\n",
            "239/239 [==============================] - 3s 14ms/step - loss: 4.1497e-05 - val_loss: 6.5070e-04\n",
            "Epoch 2/7\n",
            "239/239 [==============================] - 3s 11ms/step - loss: 8.6172e-06 - val_loss: 4.6175e-04\n",
            "Epoch 3/7\n",
            "239/239 [==============================] - 3s 11ms/step - loss: 6.8364e-06 - val_loss: 5.5965e-04\n",
            "Epoch 4/7\n",
            "239/239 [==============================] - 3s 11ms/step - loss: 4.6789e-06 - val_loss: 3.1280e-04\n",
            "Epoch 5/7\n",
            "239/239 [==============================] - 2s 10ms/step - loss: 4.2074e-06 - val_loss: 3.4504e-04\n",
            "Epoch 6/7\n",
            "239/239 [==============================] - 3s 11ms/step - loss: 5.0995e-06 - val_loss: 3.0710e-04\n",
            "Epoch 7/7\n",
            "239/239 [==============================] - 3s 11ms/step - loss: 4.2129e-06 - val_loss: 3.0583e-04\n"
          ],
          "name": "stdout"
        },
        {
          "output_type": "display_data",
          "data": {
            "text/html": [
              "<span style=\"color:#4527A0\"><h1 style=\"font-size:18px\">Trial complete</h1></span>"
            ],
            "text/plain": [
              "<IPython.core.display.HTML object>"
            ]
          },
          "metadata": {
            "tags": []
          }
        },
        {
          "output_type": "display_data",
          "data": {
            "text/html": [
              "<span style=\"color:#4527A0\"><h1 style=\"font-size:18px\">Trial summary</h1></span>"
            ],
            "text/plain": [
              "<IPython.core.display.HTML object>"
            ]
          },
          "metadata": {
            "tags": []
          }
        },
        {
          "output_type": "display_data",
          "data": {
            "text/html": [
              "<span style=\"color:cyan\"> |-Trial ID: bf02c103b2f7dd4072fded79bf04378c</span>"
            ],
            "text/plain": [
              "<IPython.core.display.HTML object>"
            ]
          },
          "metadata": {
            "tags": []
          }
        },
        {
          "output_type": "display_data",
          "data": {
            "text/html": [
              "<span style=\"color:cyan\"> |-Score: 0.0003058313741348684</span>"
            ],
            "text/plain": [
              "<IPython.core.display.HTML object>"
            ]
          },
          "metadata": {
            "tags": []
          }
        },
        {
          "output_type": "display_data",
          "data": {
            "text/html": [
              "<span style=\"color:cyan\"> |-Best step: 0</span>"
            ],
            "text/plain": [
              "<IPython.core.display.HTML object>"
            ]
          },
          "metadata": {
            "tags": []
          }
        },
        {
          "output_type": "display_data",
          "data": {
            "text/html": [
              "<span style=\"color:#7E57C2\"><h2 style=\"font-size:16px\">Hyperparameters:</h2></span>"
            ],
            "text/plain": [
              "<IPython.core.display.HTML object>"
            ]
          },
          "metadata": {
            "tags": []
          }
        },
        {
          "output_type": "display_data",
          "data": {
            "text/html": [
              "<span style=\"color:cyan\"> |-layer_input: 160</span>"
            ],
            "text/plain": [
              "<IPython.core.display.HTML object>"
            ]
          },
          "metadata": {
            "tags": []
          }
        },
        {
          "output_type": "display_data",
          "data": {
            "text/html": [
              "<span style=\"color:blue\"> |-layer_output: 256</span>"
            ],
            "text/plain": [
              "<IPython.core.display.HTML object>"
            ]
          },
          "metadata": {
            "tags": []
          }
        },
        {
          "output_type": "stream",
          "text": [
            "Epoch 1/7\n",
            "239/239 [==============================] - 3s 13ms/step - loss: 4.4565e-05 - val_loss: 7.2728e-04\n",
            "Epoch 2/7\n",
            "239/239 [==============================] - 2s 10ms/step - loss: 8.2443e-06 - val_loss: 6.5602e-04\n",
            "Epoch 3/7\n",
            "239/239 [==============================] - 3s 11ms/step - loss: 6.5734e-06 - val_loss: 4.5344e-04\n",
            "Epoch 4/7\n",
            "239/239 [==============================] - 2s 10ms/step - loss: 5.5259e-06 - val_loss: 5.2581e-04\n",
            "Epoch 5/7\n",
            "239/239 [==============================] - 2s 10ms/step - loss: 5.1263e-06 - val_loss: 3.6345e-04\n",
            "Epoch 6/7\n",
            "239/239 [==============================] - 2s 10ms/step - loss: 6.3430e-06 - val_loss: 6.5316e-04\n",
            "Epoch 7/7\n",
            "239/239 [==============================] - 2s 10ms/step - loss: 4.5267e-06 - val_loss: 4.0848e-04\n"
          ],
          "name": "stdout"
        },
        {
          "output_type": "display_data",
          "data": {
            "text/html": [
              "<span style=\"color:#4527A0\"><h1 style=\"font-size:18px\">Trial complete</h1></span>"
            ],
            "text/plain": [
              "<IPython.core.display.HTML object>"
            ]
          },
          "metadata": {
            "tags": []
          }
        },
        {
          "output_type": "display_data",
          "data": {
            "text/html": [
              "<span style=\"color:#4527A0\"><h1 style=\"font-size:18px\">Trial summary</h1></span>"
            ],
            "text/plain": [
              "<IPython.core.display.HTML object>"
            ]
          },
          "metadata": {
            "tags": []
          }
        },
        {
          "output_type": "display_data",
          "data": {
            "text/html": [
              "<span style=\"color:cyan\"> |-Trial ID: 42036f050e22c0529b995f152a6241fc</span>"
            ],
            "text/plain": [
              "<IPython.core.display.HTML object>"
            ]
          },
          "metadata": {
            "tags": []
          }
        },
        {
          "output_type": "display_data",
          "data": {
            "text/html": [
              "<span style=\"color:cyan\"> |-Score: 0.00036344543332234025</span>"
            ],
            "text/plain": [
              "<IPython.core.display.HTML object>"
            ]
          },
          "metadata": {
            "tags": []
          }
        },
        {
          "output_type": "display_data",
          "data": {
            "text/html": [
              "<span style=\"color:cyan\"> |-Best step: 0</span>"
            ],
            "text/plain": [
              "<IPython.core.display.HTML object>"
            ]
          },
          "metadata": {
            "tags": []
          }
        },
        {
          "output_type": "display_data",
          "data": {
            "text/html": [
              "<span style=\"color:#7E57C2\"><h2 style=\"font-size:16px\">Hyperparameters:</h2></span>"
            ],
            "text/plain": [
              "<IPython.core.display.HTML object>"
            ]
          },
          "metadata": {
            "tags": []
          }
        },
        {
          "output_type": "display_data",
          "data": {
            "text/html": [
              "<span style=\"color:cyan\"> |-layer_input: 64</span>"
            ],
            "text/plain": [
              "<IPython.core.display.HTML object>"
            ]
          },
          "metadata": {
            "tags": []
          }
        },
        {
          "output_type": "display_data",
          "data": {
            "text/html": [
              "<span style=\"color:blue\"> |-layer_output: 160</span>"
            ],
            "text/plain": [
              "<IPython.core.display.HTML object>"
            ]
          },
          "metadata": {
            "tags": []
          }
        },
        {
          "output_type": "stream",
          "text": [
            "Epoch 1/7\n",
            "239/239 [==============================] - 3s 13ms/step - loss: 4.9762e-05 - val_loss: 9.2663e-04\n",
            "Epoch 2/7\n",
            "239/239 [==============================] - 2s 10ms/step - loss: 7.6454e-06 - val_loss: 6.5965e-04\n",
            "Epoch 3/7\n",
            "239/239 [==============================] - 2s 10ms/step - loss: 6.2914e-06 - val_loss: 4.6856e-04\n",
            "Epoch 4/7\n",
            "239/239 [==============================] - 2s 10ms/step - loss: 6.2776e-06 - val_loss: 4.9752e-04\n",
            "Epoch 5/7\n",
            "239/239 [==============================] - 2s 10ms/step - loss: 5.6693e-06 - val_loss: 4.4854e-04\n",
            "Epoch 6/7\n",
            "239/239 [==============================] - 2s 10ms/step - loss: 4.3199e-06 - val_loss: 3.3987e-04\n",
            "Epoch 7/7\n",
            "239/239 [==============================] - 2s 10ms/step - loss: 4.3474e-06 - val_loss: 6.0293e-04\n"
          ],
          "name": "stdout"
        },
        {
          "output_type": "display_data",
          "data": {
            "text/html": [
              "<span style=\"color:#4527A0\"><h1 style=\"font-size:18px\">Trial complete</h1></span>"
            ],
            "text/plain": [
              "<IPython.core.display.HTML object>"
            ]
          },
          "metadata": {
            "tags": []
          }
        },
        {
          "output_type": "display_data",
          "data": {
            "text/html": [
              "<span style=\"color:#4527A0\"><h1 style=\"font-size:18px\">Trial summary</h1></span>"
            ],
            "text/plain": [
              "<IPython.core.display.HTML object>"
            ]
          },
          "metadata": {
            "tags": []
          }
        },
        {
          "output_type": "display_data",
          "data": {
            "text/html": [
              "<span style=\"color:cyan\"> |-Trial ID: c664af9db781aacf5ef78eb9f02b282f</span>"
            ],
            "text/plain": [
              "<IPython.core.display.HTML object>"
            ]
          },
          "metadata": {
            "tags": []
          }
        },
        {
          "output_type": "display_data",
          "data": {
            "text/html": [
              "<span style=\"color:cyan\"> |-Score: 0.0003398670523893088</span>"
            ],
            "text/plain": [
              "<IPython.core.display.HTML object>"
            ]
          },
          "metadata": {
            "tags": []
          }
        },
        {
          "output_type": "display_data",
          "data": {
            "text/html": [
              "<span style=\"color:cyan\"> |-Best step: 0</span>"
            ],
            "text/plain": [
              "<IPython.core.display.HTML object>"
            ]
          },
          "metadata": {
            "tags": []
          }
        },
        {
          "output_type": "display_data",
          "data": {
            "text/html": [
              "<span style=\"color:#7E57C2\"><h2 style=\"font-size:16px\">Hyperparameters:</h2></span>"
            ],
            "text/plain": [
              "<IPython.core.display.HTML object>"
            ]
          },
          "metadata": {
            "tags": []
          }
        },
        {
          "output_type": "display_data",
          "data": {
            "text/html": [
              "<span style=\"color:cyan\"> |-layer_input: 160</span>"
            ],
            "text/plain": [
              "<IPython.core.display.HTML object>"
            ]
          },
          "metadata": {
            "tags": []
          }
        },
        {
          "output_type": "display_data",
          "data": {
            "text/html": [
              "<span style=\"color:blue\"> |-layer_output: 96</span>"
            ],
            "text/plain": [
              "<IPython.core.display.HTML object>"
            ]
          },
          "metadata": {
            "tags": []
          }
        },
        {
          "output_type": "stream",
          "text": [
            "Epoch 1/7\n",
            "239/239 [==============================] - 3s 13ms/step - loss: 3.6449e-05 - val_loss: 8.8763e-04\n",
            "Epoch 2/7\n",
            "239/239 [==============================] - 2s 10ms/step - loss: 8.0258e-06 - val_loss: 6.2205e-04\n",
            "Epoch 3/7\n",
            "239/239 [==============================] - 3s 11ms/step - loss: 6.6700e-06 - val_loss: 4.6441e-04\n",
            "Epoch 4/7\n",
            "239/239 [==============================] - 2s 10ms/step - loss: 5.6579e-06 - val_loss: 3.2997e-04\n",
            "Epoch 5/7\n",
            "239/239 [==============================] - 2s 10ms/step - loss: 5.0795e-06 - val_loss: 5.4474e-04\n",
            "Epoch 6/7\n",
            "239/239 [==============================] - 2s 10ms/step - loss: 4.5750e-06 - val_loss: 6.3399e-04\n",
            "Epoch 7/7\n",
            "236/239 [============================>.] - ETA: 0s - loss: 4.6894e-06Restoring model weights from the end of the best epoch.\n",
            "239/239 [==============================] - 2s 10ms/step - loss: 4.6687e-06 - val_loss: 3.6109e-04\n",
            "Epoch 00007: early stopping\n"
          ],
          "name": "stdout"
        },
        {
          "output_type": "display_data",
          "data": {
            "text/html": [
              "<span style=\"color:#4527A0\"><h1 style=\"font-size:18px\">Trial complete</h1></span>"
            ],
            "text/plain": [
              "<IPython.core.display.HTML object>"
            ]
          },
          "metadata": {
            "tags": []
          }
        },
        {
          "output_type": "display_data",
          "data": {
            "text/html": [
              "<span style=\"color:#4527A0\"><h1 style=\"font-size:18px\">Trial summary</h1></span>"
            ],
            "text/plain": [
              "<IPython.core.display.HTML object>"
            ]
          },
          "metadata": {
            "tags": []
          }
        },
        {
          "output_type": "display_data",
          "data": {
            "text/html": [
              "<span style=\"color:cyan\"> |-Trial ID: dac43967ce8cf931e70475c900ce8494</span>"
            ],
            "text/plain": [
              "<IPython.core.display.HTML object>"
            ]
          },
          "metadata": {
            "tags": []
          }
        },
        {
          "output_type": "display_data",
          "data": {
            "text/html": [
              "<span style=\"color:cyan\"> |-Score: 0.00032997349626384676</span>"
            ],
            "text/plain": [
              "<IPython.core.display.HTML object>"
            ]
          },
          "metadata": {
            "tags": []
          }
        },
        {
          "output_type": "display_data",
          "data": {
            "text/html": [
              "<span style=\"color:cyan\"> |-Best step: 0</span>"
            ],
            "text/plain": [
              "<IPython.core.display.HTML object>"
            ]
          },
          "metadata": {
            "tags": []
          }
        },
        {
          "output_type": "display_data",
          "data": {
            "text/html": [
              "<span style=\"color:#7E57C2\"><h2 style=\"font-size:16px\">Hyperparameters:</h2></span>"
            ],
            "text/plain": [
              "<IPython.core.display.HTML object>"
            ]
          },
          "metadata": {
            "tags": []
          }
        },
        {
          "output_type": "display_data",
          "data": {
            "text/html": [
              "<span style=\"color:cyan\"> |-layer_input: 96</span>"
            ],
            "text/plain": [
              "<IPython.core.display.HTML object>"
            ]
          },
          "metadata": {
            "tags": []
          }
        },
        {
          "output_type": "display_data",
          "data": {
            "text/html": [
              "<span style=\"color:blue\"> |-layer_output: 128</span>"
            ],
            "text/plain": [
              "<IPython.core.display.HTML object>"
            ]
          },
          "metadata": {
            "tags": []
          }
        },
        {
          "output_type": "stream",
          "text": [
            "Epoch 1/7\n",
            "239/239 [==============================] - 3s 14ms/step - loss: 2.4979e-05 - val_loss: 5.8664e-04\n",
            "Epoch 2/7\n",
            "239/239 [==============================] - 2s 10ms/step - loss: 8.6400e-06 - val_loss: 4.4135e-04\n",
            "Epoch 3/7\n",
            "239/239 [==============================] - 3s 11ms/step - loss: 5.6713e-06 - val_loss: 4.1504e-04\n",
            "Epoch 4/7\n",
            "239/239 [==============================] - 3s 11ms/step - loss: 5.1947e-06 - val_loss: 3.8163e-04\n",
            "Epoch 5/7\n",
            "239/239 [==============================] - 2s 10ms/step - loss: 5.7590e-06 - val_loss: 4.2860e-04\n",
            "Epoch 6/7\n",
            "239/239 [==============================] - 3s 11ms/step - loss: 4.4918e-06 - val_loss: 2.7197e-04\n",
            "Epoch 7/7\n",
            "239/239 [==============================] - 3s 10ms/step - loss: 3.5323e-06 - val_loss: 1.6608e-04\n"
          ],
          "name": "stdout"
        },
        {
          "output_type": "display_data",
          "data": {
            "text/html": [
              "<span style=\"color:#4527A0\"><h1 style=\"font-size:18px\">Trial complete</h1></span>"
            ],
            "text/plain": [
              "<IPython.core.display.HTML object>"
            ]
          },
          "metadata": {
            "tags": []
          }
        },
        {
          "output_type": "display_data",
          "data": {
            "text/html": [
              "<span style=\"color:#4527A0\"><h1 style=\"font-size:18px\">Trial summary</h1></span>"
            ],
            "text/plain": [
              "<IPython.core.display.HTML object>"
            ]
          },
          "metadata": {
            "tags": []
          }
        },
        {
          "output_type": "display_data",
          "data": {
            "text/html": [
              "<span style=\"color:cyan\"> |-Trial ID: 92918f474d98e8f18c11d923c946488c</span>"
            ],
            "text/plain": [
              "<IPython.core.display.HTML object>"
            ]
          },
          "metadata": {
            "tags": []
          }
        },
        {
          "output_type": "display_data",
          "data": {
            "text/html": [
              "<span style=\"color:cyan\"> |-Score: 0.00016608087753411382</span>"
            ],
            "text/plain": [
              "<IPython.core.display.HTML object>"
            ]
          },
          "metadata": {
            "tags": []
          }
        },
        {
          "output_type": "display_data",
          "data": {
            "text/html": [
              "<span style=\"color:cyan\"> |-Best step: 0</span>"
            ],
            "text/plain": [
              "<IPython.core.display.HTML object>"
            ]
          },
          "metadata": {
            "tags": []
          }
        },
        {
          "output_type": "display_data",
          "data": {
            "text/html": [
              "<span style=\"color:#7E57C2\"><h2 style=\"font-size:16px\">Hyperparameters:</h2></span>"
            ],
            "text/plain": [
              "<IPython.core.display.HTML object>"
            ]
          },
          "metadata": {
            "tags": []
          }
        },
        {
          "output_type": "display_data",
          "data": {
            "text/html": [
              "<span style=\"color:cyan\"> |-layer_input: 160</span>"
            ],
            "text/plain": [
              "<IPython.core.display.HTML object>"
            ]
          },
          "metadata": {
            "tags": []
          }
        },
        {
          "output_type": "display_data",
          "data": {
            "text/html": [
              "<span style=\"color:blue\"> |-layer_output: 192</span>"
            ],
            "text/plain": [
              "<IPython.core.display.HTML object>"
            ]
          },
          "metadata": {
            "tags": []
          }
        },
        {
          "output_type": "stream",
          "text": [
            "Epoch 1/7\n",
            "239/239 [==============================] - 3s 13ms/step - loss: 3.5794e-05 - val_loss: 7.5959e-04\n",
            "Epoch 2/7\n",
            "239/239 [==============================] - 2s 10ms/step - loss: 6.9500e-06 - val_loss: 7.9884e-04\n",
            "Epoch 3/7\n",
            "239/239 [==============================] - 2s 10ms/step - loss: 5.9452e-06 - val_loss: 5.0552e-04\n",
            "Epoch 4/7\n",
            "239/239 [==============================] - 3s 11ms/step - loss: 5.7333e-06 - val_loss: 3.1043e-04\n",
            "Epoch 5/7\n",
            "239/239 [==============================] - 2s 10ms/step - loss: 4.9725e-06 - val_loss: 3.2009e-04\n",
            "Epoch 6/7\n",
            "239/239 [==============================] - 2s 10ms/step - loss: 4.0684e-06 - val_loss: 3.5295e-04\n",
            "Epoch 7/7\n",
            "239/239 [==============================] - ETA: 0s - loss: 5.4989e-06Restoring model weights from the end of the best epoch.\n",
            "239/239 [==============================] - 2s 10ms/step - loss: 5.4989e-06 - val_loss: 5.5043e-04\n",
            "Epoch 00007: early stopping\n"
          ],
          "name": "stdout"
        },
        {
          "output_type": "display_data",
          "data": {
            "text/html": [
              "<span style=\"color:#4527A0\"><h1 style=\"font-size:18px\">Trial complete</h1></span>"
            ],
            "text/plain": [
              "<IPython.core.display.HTML object>"
            ]
          },
          "metadata": {
            "tags": []
          }
        },
        {
          "output_type": "display_data",
          "data": {
            "text/html": [
              "<span style=\"color:#4527A0\"><h1 style=\"font-size:18px\">Trial summary</h1></span>"
            ],
            "text/plain": [
              "<IPython.core.display.HTML object>"
            ]
          },
          "metadata": {
            "tags": []
          }
        },
        {
          "output_type": "display_data",
          "data": {
            "text/html": [
              "<span style=\"color:cyan\"> |-Trial ID: 80cb654ff8e14d73d5e59c9be6197eca</span>"
            ],
            "text/plain": [
              "<IPython.core.display.HTML object>"
            ]
          },
          "metadata": {
            "tags": []
          }
        },
        {
          "output_type": "display_data",
          "data": {
            "text/html": [
              "<span style=\"color:cyan\"> |-Score: 0.00031043298076838255</span>"
            ],
            "text/plain": [
              "<IPython.core.display.HTML object>"
            ]
          },
          "metadata": {
            "tags": []
          }
        },
        {
          "output_type": "display_data",
          "data": {
            "text/html": [
              "<span style=\"color:cyan\"> |-Best step: 0</span>"
            ],
            "text/plain": [
              "<IPython.core.display.HTML object>"
            ]
          },
          "metadata": {
            "tags": []
          }
        },
        {
          "output_type": "display_data",
          "data": {
            "text/html": [
              "<span style=\"color:#7E57C2\"><h2 style=\"font-size:16px\">Hyperparameters:</h2></span>"
            ],
            "text/plain": [
              "<IPython.core.display.HTML object>"
            ]
          },
          "metadata": {
            "tags": []
          }
        },
        {
          "output_type": "display_data",
          "data": {
            "text/html": [
              "<span style=\"color:cyan\"> |-layer_input: 128</span>"
            ],
            "text/plain": [
              "<IPython.core.display.HTML object>"
            ]
          },
          "metadata": {
            "tags": []
          }
        },
        {
          "output_type": "display_data",
          "data": {
            "text/html": [
              "<span style=\"color:blue\"> |-layer_output: 96</span>"
            ],
            "text/plain": [
              "<IPython.core.display.HTML object>"
            ]
          },
          "metadata": {
            "tags": []
          }
        },
        {
          "output_type": "stream",
          "text": [
            "Epoch 1/7\n",
            "239/239 [==============================] - 3s 13ms/step - loss: 5.2104e-05 - val_loss: 5.8854e-04\n",
            "Epoch 2/7\n",
            "239/239 [==============================] - 2s 10ms/step - loss: 7.1719e-06 - val_loss: 5.9268e-04\n",
            "Epoch 3/7\n",
            "239/239 [==============================] - 2s 10ms/step - loss: 7.6735e-06 - val_loss: 6.5441e-04\n",
            "Epoch 4/7\n",
            "239/239 [==============================] - 2s 10ms/step - loss: 5.7016e-06 - val_loss: 5.5479e-04\n",
            "Epoch 5/7\n",
            "239/239 [==============================] - 2s 10ms/step - loss: 6.1267e-06 - val_loss: 3.9672e-04\n",
            "Epoch 6/7\n",
            "239/239 [==============================] - 2s 10ms/step - loss: 5.1810e-06 - val_loss: 6.2502e-04\n",
            "Epoch 7/7\n",
            "239/239 [==============================] - 3s 10ms/step - loss: 4.7549e-06 - val_loss: 3.8007e-04\n"
          ],
          "name": "stdout"
        },
        {
          "output_type": "display_data",
          "data": {
            "text/html": [
              "<span style=\"color:#4527A0\"><h1 style=\"font-size:18px\">Trial complete</h1></span>"
            ],
            "text/plain": [
              "<IPython.core.display.HTML object>"
            ]
          },
          "metadata": {
            "tags": []
          }
        },
        {
          "output_type": "display_data",
          "data": {
            "text/html": [
              "<span style=\"color:#4527A0\"><h1 style=\"font-size:18px\">Trial summary</h1></span>"
            ],
            "text/plain": [
              "<IPython.core.display.HTML object>"
            ]
          },
          "metadata": {
            "tags": []
          }
        },
        {
          "output_type": "display_data",
          "data": {
            "text/html": [
              "<span style=\"color:cyan\"> |-Trial ID: 1571b883f078363aa8f20ef0590757b1</span>"
            ],
            "text/plain": [
              "<IPython.core.display.HTML object>"
            ]
          },
          "metadata": {
            "tags": []
          }
        },
        {
          "output_type": "display_data",
          "data": {
            "text/html": [
              "<span style=\"color:cyan\"> |-Score: 0.0003800671547651291</span>"
            ],
            "text/plain": [
              "<IPython.core.display.HTML object>"
            ]
          },
          "metadata": {
            "tags": []
          }
        },
        {
          "output_type": "display_data",
          "data": {
            "text/html": [
              "<span style=\"color:cyan\"> |-Best step: 0</span>"
            ],
            "text/plain": [
              "<IPython.core.display.HTML object>"
            ]
          },
          "metadata": {
            "tags": []
          }
        },
        {
          "output_type": "display_data",
          "data": {
            "text/html": [
              "<span style=\"color:#7E57C2\"><h2 style=\"font-size:16px\">Hyperparameters:</h2></span>"
            ],
            "text/plain": [
              "<IPython.core.display.HTML object>"
            ]
          },
          "metadata": {
            "tags": []
          }
        },
        {
          "output_type": "display_data",
          "data": {
            "text/html": [
              "<span style=\"color:cyan\"> |-layer_input: 64</span>"
            ],
            "text/plain": [
              "<IPython.core.display.HTML object>"
            ]
          },
          "metadata": {
            "tags": []
          }
        },
        {
          "output_type": "display_data",
          "data": {
            "text/html": [
              "<span style=\"color:blue\"> |-layer_output: 128</span>"
            ],
            "text/plain": [
              "<IPython.core.display.HTML object>"
            ]
          },
          "metadata": {
            "tags": []
          }
        },
        {
          "output_type": "stream",
          "text": [
            "Epoch 1/7\n",
            "239/239 [==============================] - 3s 13ms/step - loss: 3.8774e-05 - val_loss: 6.8931e-04\n",
            "Epoch 2/7\n",
            "239/239 [==============================] - 2s 10ms/step - loss: 7.7824e-06 - val_loss: 6.7741e-04\n",
            "Epoch 3/7\n",
            "239/239 [==============================] - 2s 10ms/step - loss: 8.6364e-06 - val_loss: 5.2902e-04\n",
            "Epoch 4/7\n",
            "239/239 [==============================] - 2s 10ms/step - loss: 4.6895e-06 - val_loss: 3.9558e-04\n",
            "Epoch 5/7\n",
            "239/239 [==============================] - 2s 10ms/step - loss: 4.3719e-06 - val_loss: 4.5936e-04\n",
            "Epoch 6/7\n",
            "239/239 [==============================] - 2s 10ms/step - loss: 5.4665e-06 - val_loss: 4.4144e-04\n",
            "Epoch 7/7\n",
            "239/239 [==============================] - 3s 12ms/step - loss: 4.2476e-06 - val_loss: 2.9019e-04\n"
          ],
          "name": "stdout"
        },
        {
          "output_type": "display_data",
          "data": {
            "text/html": [
              "<span style=\"color:#4527A0\"><h1 style=\"font-size:18px\">Trial complete</h1></span>"
            ],
            "text/plain": [
              "<IPython.core.display.HTML object>"
            ]
          },
          "metadata": {
            "tags": []
          }
        },
        {
          "output_type": "display_data",
          "data": {
            "text/html": [
              "<span style=\"color:#4527A0\"><h1 style=\"font-size:18px\">Trial summary</h1></span>"
            ],
            "text/plain": [
              "<IPython.core.display.HTML object>"
            ]
          },
          "metadata": {
            "tags": []
          }
        },
        {
          "output_type": "display_data",
          "data": {
            "text/html": [
              "<span style=\"color:cyan\"> |-Trial ID: aa67446b1def43e003946033c5a3c2ab</span>"
            ],
            "text/plain": [
              "<IPython.core.display.HTML object>"
            ]
          },
          "metadata": {
            "tags": []
          }
        },
        {
          "output_type": "display_data",
          "data": {
            "text/html": [
              "<span style=\"color:cyan\"> |-Score: 0.0002901937405113131</span>"
            ],
            "text/plain": [
              "<IPython.core.display.HTML object>"
            ]
          },
          "metadata": {
            "tags": []
          }
        },
        {
          "output_type": "display_data",
          "data": {
            "text/html": [
              "<span style=\"color:cyan\"> |-Best step: 0</span>"
            ],
            "text/plain": [
              "<IPython.core.display.HTML object>"
            ]
          },
          "metadata": {
            "tags": []
          }
        },
        {
          "output_type": "display_data",
          "data": {
            "text/html": [
              "<span style=\"color:#7E57C2\"><h2 style=\"font-size:16px\">Hyperparameters:</h2></span>"
            ],
            "text/plain": [
              "<IPython.core.display.HTML object>"
            ]
          },
          "metadata": {
            "tags": []
          }
        },
        {
          "output_type": "display_data",
          "data": {
            "text/html": [
              "<span style=\"color:cyan\"> |-layer_input: 192</span>"
            ],
            "text/plain": [
              "<IPython.core.display.HTML object>"
            ]
          },
          "metadata": {
            "tags": []
          }
        },
        {
          "output_type": "display_data",
          "data": {
            "text/html": [
              "<span style=\"color:blue\"> |-layer_output: 128</span>"
            ],
            "text/plain": [
              "<IPython.core.display.HTML object>"
            ]
          },
          "metadata": {
            "tags": []
          }
        },
        {
          "output_type": "stream",
          "text": [
            "Epoch 1/7\n",
            "239/239 [==============================] - 3s 13ms/step - loss: 5.8283e-05 - val_loss: 6.8078e-04\n",
            "Epoch 2/7\n",
            "239/239 [==============================] - 3s 10ms/step - loss: 7.3160e-06 - val_loss: 7.9565e-04\n",
            "Epoch 3/7\n",
            "239/239 [==============================] - 3s 11ms/step - loss: 6.2551e-06 - val_loss: 4.3624e-04\n",
            "Epoch 4/7\n",
            "239/239 [==============================] - 2s 10ms/step - loss: 7.2849e-06 - val_loss: 6.5789e-04\n",
            "Epoch 5/7\n",
            "239/239 [==============================] - 2s 10ms/step - loss: 5.3675e-06 - val_loss: 4.1737e-04\n",
            "Epoch 6/7\n",
            "239/239 [==============================] - 3s 11ms/step - loss: 4.6376e-06 - val_loss: 3.6242e-04\n",
            "Epoch 7/7\n",
            "239/239 [==============================] - 2s 10ms/step - loss: 5.0343e-06 - val_loss: 3.5256e-04\n"
          ],
          "name": "stdout"
        },
        {
          "output_type": "display_data",
          "data": {
            "text/html": [
              "<span style=\"color:#4527A0\"><h1 style=\"font-size:18px\">Trial complete</h1></span>"
            ],
            "text/plain": [
              "<IPython.core.display.HTML object>"
            ]
          },
          "metadata": {
            "tags": []
          }
        },
        {
          "output_type": "display_data",
          "data": {
            "text/html": [
              "<span style=\"color:#4527A0\"><h1 style=\"font-size:18px\">Trial summary</h1></span>"
            ],
            "text/plain": [
              "<IPython.core.display.HTML object>"
            ]
          },
          "metadata": {
            "tags": []
          }
        },
        {
          "output_type": "display_data",
          "data": {
            "text/html": [
              "<span style=\"color:cyan\"> |-Trial ID: 14630560357f9f6e82d2829a1d62a48d</span>"
            ],
            "text/plain": [
              "<IPython.core.display.HTML object>"
            ]
          },
          "metadata": {
            "tags": []
          }
        },
        {
          "output_type": "display_data",
          "data": {
            "text/html": [
              "<span style=\"color:cyan\"> |-Score: 0.0003525573411025107</span>"
            ],
            "text/plain": [
              "<IPython.core.display.HTML object>"
            ]
          },
          "metadata": {
            "tags": []
          }
        },
        {
          "output_type": "display_data",
          "data": {
            "text/html": [
              "<span style=\"color:cyan\"> |-Best step: 0</span>"
            ],
            "text/plain": [
              "<IPython.core.display.HTML object>"
            ]
          },
          "metadata": {
            "tags": []
          }
        },
        {
          "output_type": "display_data",
          "data": {
            "text/html": [
              "<span style=\"color:#7E57C2\"><h2 style=\"font-size:16px\">Hyperparameters:</h2></span>"
            ],
            "text/plain": [
              "<IPython.core.display.HTML object>"
            ]
          },
          "metadata": {
            "tags": []
          }
        },
        {
          "output_type": "display_data",
          "data": {
            "text/html": [
              "<span style=\"color:cyan\"> |-layer_input: 96</span>"
            ],
            "text/plain": [
              "<IPython.core.display.HTML object>"
            ]
          },
          "metadata": {
            "tags": []
          }
        },
        {
          "output_type": "display_data",
          "data": {
            "text/html": [
              "<span style=\"color:blue\"> |-layer_output: 160</span>"
            ],
            "text/plain": [
              "<IPython.core.display.HTML object>"
            ]
          },
          "metadata": {
            "tags": []
          }
        },
        {
          "output_type": "stream",
          "text": [
            "Epoch 1/7\n",
            "239/239 [==============================] - 3s 14ms/step - loss: 3.3755e-05 - val_loss: 0.0014\n",
            "Epoch 2/7\n",
            "239/239 [==============================] - 2s 10ms/step - loss: 7.2883e-06 - val_loss: 6.8535e-04\n",
            "Epoch 3/7\n",
            "239/239 [==============================] - 2s 10ms/step - loss: 5.9362e-06 - val_loss: 6.1235e-04\n",
            "Epoch 4/7\n",
            "239/239 [==============================] - 3s 10ms/step - loss: 6.3650e-06 - val_loss: 5.2119e-04\n",
            "Epoch 5/7\n",
            "239/239 [==============================] - 2s 10ms/step - loss: 6.2139e-06 - val_loss: 3.8521e-04\n",
            "Epoch 6/7\n",
            "239/239 [==============================] - 2s 10ms/step - loss: 3.9579e-06 - val_loss: 2.2514e-04\n",
            "Epoch 7/7\n",
            "239/239 [==============================] - 3s 11ms/step - loss: 3.7593e-06 - val_loss: 2.0364e-04\n"
          ],
          "name": "stdout"
        },
        {
          "output_type": "display_data",
          "data": {
            "text/html": [
              "<span style=\"color:#4527A0\"><h1 style=\"font-size:18px\">Trial complete</h1></span>"
            ],
            "text/plain": [
              "<IPython.core.display.HTML object>"
            ]
          },
          "metadata": {
            "tags": []
          }
        },
        {
          "output_type": "display_data",
          "data": {
            "text/html": [
              "<span style=\"color:#4527A0\"><h1 style=\"font-size:18px\">Trial summary</h1></span>"
            ],
            "text/plain": [
              "<IPython.core.display.HTML object>"
            ]
          },
          "metadata": {
            "tags": []
          }
        },
        {
          "output_type": "display_data",
          "data": {
            "text/html": [
              "<span style=\"color:cyan\"> |-Trial ID: ca6c82f0ba7fb484d2bbdd9dadd3871e</span>"
            ],
            "text/plain": [
              "<IPython.core.display.HTML object>"
            ]
          },
          "metadata": {
            "tags": []
          }
        },
        {
          "output_type": "display_data",
          "data": {
            "text/html": [
              "<span style=\"color:cyan\"> |-Score: 0.00020364263036753982</span>"
            ],
            "text/plain": [
              "<IPython.core.display.HTML object>"
            ]
          },
          "metadata": {
            "tags": []
          }
        },
        {
          "output_type": "display_data",
          "data": {
            "text/html": [
              "<span style=\"color:cyan\"> |-Best step: 0</span>"
            ],
            "text/plain": [
              "<IPython.core.display.HTML object>"
            ]
          },
          "metadata": {
            "tags": []
          }
        },
        {
          "output_type": "display_data",
          "data": {
            "text/html": [
              "<span style=\"color:#7E57C2\"><h2 style=\"font-size:16px\">Hyperparameters:</h2></span>"
            ],
            "text/plain": [
              "<IPython.core.display.HTML object>"
            ]
          },
          "metadata": {
            "tags": []
          }
        },
        {
          "output_type": "display_data",
          "data": {
            "text/html": [
              "<span style=\"color:cyan\"> |-layer_input: 64</span>"
            ],
            "text/plain": [
              "<IPython.core.display.HTML object>"
            ]
          },
          "metadata": {
            "tags": []
          }
        },
        {
          "output_type": "display_data",
          "data": {
            "text/html": [
              "<span style=\"color:blue\"> |-layer_output: 192</span>"
            ],
            "text/plain": [
              "<IPython.core.display.HTML object>"
            ]
          },
          "metadata": {
            "tags": []
          }
        },
        {
          "output_type": "stream",
          "text": [
            "Epoch 1/7\n",
            "239/239 [==============================] - 3s 12ms/step - loss: 6.0544e-05 - val_loss: 0.0012\n",
            "Epoch 2/7\n",
            "239/239 [==============================] - 2s 10ms/step - loss: 7.1120e-06 - val_loss: 9.2911e-04\n",
            "Epoch 3/7\n",
            "239/239 [==============================] - 2s 9ms/step - loss: 6.6503e-06 - val_loss: 0.0010\n",
            "Epoch 4/7\n",
            "239/239 [==============================] - 2s 9ms/step - loss: 6.2772e-06 - val_loss: 0.0011\n",
            "Epoch 5/7\n",
            "239/239 [==============================] - 2s 9ms/step - loss: 5.7582e-06 - val_loss: 6.8368e-04\n",
            "Epoch 6/7\n",
            "239/239 [==============================] - 2s 9ms/step - loss: 6.3176e-06 - val_loss: 9.5464e-04\n",
            "Epoch 7/7\n",
            "239/239 [==============================] - 2s 9ms/step - loss: 5.4744e-06 - val_loss: 4.3772e-04\n"
          ],
          "name": "stdout"
        },
        {
          "output_type": "display_data",
          "data": {
            "text/html": [
              "<span style=\"color:#4527A0\"><h1 style=\"font-size:18px\">Trial complete</h1></span>"
            ],
            "text/plain": [
              "<IPython.core.display.HTML object>"
            ]
          },
          "metadata": {
            "tags": []
          }
        },
        {
          "output_type": "display_data",
          "data": {
            "text/html": [
              "<span style=\"color:#4527A0\"><h1 style=\"font-size:18px\">Trial summary</h1></span>"
            ],
            "text/plain": [
              "<IPython.core.display.HTML object>"
            ]
          },
          "metadata": {
            "tags": []
          }
        },
        {
          "output_type": "display_data",
          "data": {
            "text/html": [
              "<span style=\"color:cyan\"> |-Trial ID: 62e518de94ebe58a1a64b955455081bc</span>"
            ],
            "text/plain": [
              "<IPython.core.display.HTML object>"
            ]
          },
          "metadata": {
            "tags": []
          }
        },
        {
          "output_type": "display_data",
          "data": {
            "text/html": [
              "<span style=\"color:cyan\"> |-Score: 0.00043771875789389014</span>"
            ],
            "text/plain": [
              "<IPython.core.display.HTML object>"
            ]
          },
          "metadata": {
            "tags": []
          }
        },
        {
          "output_type": "display_data",
          "data": {
            "text/html": [
              "<span style=\"color:cyan\"> |-Best step: 0</span>"
            ],
            "text/plain": [
              "<IPython.core.display.HTML object>"
            ]
          },
          "metadata": {
            "tags": []
          }
        },
        {
          "output_type": "display_data",
          "data": {
            "text/html": [
              "<span style=\"color:#7E57C2\"><h2 style=\"font-size:16px\">Hyperparameters:</h2></span>"
            ],
            "text/plain": [
              "<IPython.core.display.HTML object>"
            ]
          },
          "metadata": {
            "tags": []
          }
        },
        {
          "output_type": "display_data",
          "data": {
            "text/html": [
              "<span style=\"color:cyan\"> |-layer_input: 32</span>"
            ],
            "text/plain": [
              "<IPython.core.display.HTML object>"
            ]
          },
          "metadata": {
            "tags": []
          }
        },
        {
          "output_type": "display_data",
          "data": {
            "text/html": [
              "<span style=\"color:blue\"> |-layer_output: 64</span>"
            ],
            "text/plain": [
              "<IPython.core.display.HTML object>"
            ]
          },
          "metadata": {
            "tags": []
          }
        },
        {
          "output_type": "stream",
          "text": [
            "Epoch 1/7\n",
            "239/239 [==============================] - 3s 13ms/step - loss: 2.8822e-05 - val_loss: 7.1941e-04\n",
            "Epoch 2/7\n",
            "239/239 [==============================] - 2s 10ms/step - loss: 7.0735e-06 - val_loss: 5.9726e-04\n",
            "Epoch 3/7\n",
            "239/239 [==============================] - 2s 10ms/step - loss: 5.5853e-06 - val_loss: 3.8761e-04\n",
            "Epoch 4/7\n",
            "239/239 [==============================] - 2s 10ms/step - loss: 4.9927e-06 - val_loss: 3.5959e-04\n",
            "Epoch 5/7\n",
            "239/239 [==============================] - 2s 10ms/step - loss: 4.7985e-06 - val_loss: 4.1792e-04\n",
            "Epoch 6/7\n",
            "239/239 [==============================] - 2s 10ms/step - loss: 4.9973e-06 - val_loss: 2.6618e-04\n",
            "Epoch 7/7\n",
            "239/239 [==============================] - 3s 11ms/step - loss: 3.8175e-06 - val_loss: 1.8522e-04\n"
          ],
          "name": "stdout"
        },
        {
          "output_type": "display_data",
          "data": {
            "text/html": [
              "<span style=\"color:#4527A0\"><h1 style=\"font-size:18px\">Trial complete</h1></span>"
            ],
            "text/plain": [
              "<IPython.core.display.HTML object>"
            ]
          },
          "metadata": {
            "tags": []
          }
        },
        {
          "output_type": "display_data",
          "data": {
            "text/html": [
              "<span style=\"color:#4527A0\"><h1 style=\"font-size:18px\">Trial summary</h1></span>"
            ],
            "text/plain": [
              "<IPython.core.display.HTML object>"
            ]
          },
          "metadata": {
            "tags": []
          }
        },
        {
          "output_type": "display_data",
          "data": {
            "text/html": [
              "<span style=\"color:cyan\"> |-Trial ID: 7c768a2b0a4dafe8e1c71c9a17d44bd9</span>"
            ],
            "text/plain": [
              "<IPython.core.display.HTML object>"
            ]
          },
          "metadata": {
            "tags": []
          }
        },
        {
          "output_type": "display_data",
          "data": {
            "text/html": [
              "<span style=\"color:cyan\"> |-Score: 0.00018521628226153553</span>"
            ],
            "text/plain": [
              "<IPython.core.display.HTML object>"
            ]
          },
          "metadata": {
            "tags": []
          }
        },
        {
          "output_type": "display_data",
          "data": {
            "text/html": [
              "<span style=\"color:cyan\"> |-Best step: 0</span>"
            ],
            "text/plain": [
              "<IPython.core.display.HTML object>"
            ]
          },
          "metadata": {
            "tags": []
          }
        },
        {
          "output_type": "display_data",
          "data": {
            "text/html": [
              "<span style=\"color:#7E57C2\"><h2 style=\"font-size:16px\">Hyperparameters:</h2></span>"
            ],
            "text/plain": [
              "<IPython.core.display.HTML object>"
            ]
          },
          "metadata": {
            "tags": []
          }
        },
        {
          "output_type": "display_data",
          "data": {
            "text/html": [
              "<span style=\"color:cyan\"> |-layer_input: 96</span>"
            ],
            "text/plain": [
              "<IPython.core.display.HTML object>"
            ]
          },
          "metadata": {
            "tags": []
          }
        },
        {
          "output_type": "display_data",
          "data": {
            "text/html": [
              "<span style=\"color:blue\"> |-layer_output: 256</span>"
            ],
            "text/plain": [
              "<IPython.core.display.HTML object>"
            ]
          },
          "metadata": {
            "tags": []
          }
        },
        {
          "output_type": "stream",
          "text": [
            "Epoch 1/7\n",
            "239/239 [==============================] - 3s 13ms/step - loss: 4.1009e-05 - val_loss: 7.8688e-04\n",
            "Epoch 2/7\n",
            "239/239 [==============================] - 2s 10ms/step - loss: 6.7013e-06 - val_loss: 9.9808e-04\n",
            "Epoch 3/7\n",
            "239/239 [==============================] - 2s 10ms/step - loss: 8.1670e-06 - val_loss: 5.0006e-04\n",
            "Epoch 4/7\n",
            "239/239 [==============================] - 2s 10ms/step - loss: 6.0183e-06 - val_loss: 3.0956e-04\n",
            "Epoch 5/7\n",
            "239/239 [==============================] - 2s 10ms/step - loss: 4.1612e-06 - val_loss: 2.0240e-04\n",
            "Epoch 6/7\n",
            "239/239 [==============================] - 2s 10ms/step - loss: 3.8676e-06 - val_loss: 1.7912e-04\n",
            "Epoch 7/7\n",
            "239/239 [==============================] - 2s 10ms/step - loss: 5.0693e-06 - val_loss: 3.5330e-04\n"
          ],
          "name": "stdout"
        },
        {
          "output_type": "display_data",
          "data": {
            "text/html": [
              "<span style=\"color:#4527A0\"><h1 style=\"font-size:18px\">Trial complete</h1></span>"
            ],
            "text/plain": [
              "<IPython.core.display.HTML object>"
            ]
          },
          "metadata": {
            "tags": []
          }
        },
        {
          "output_type": "display_data",
          "data": {
            "text/html": [
              "<span style=\"color:#4527A0\"><h1 style=\"font-size:18px\">Trial summary</h1></span>"
            ],
            "text/plain": [
              "<IPython.core.display.HTML object>"
            ]
          },
          "metadata": {
            "tags": []
          }
        },
        {
          "output_type": "display_data",
          "data": {
            "text/html": [
              "<span style=\"color:cyan\"> |-Trial ID: e161a9d647780d45c6f96c0ab2daa75c</span>"
            ],
            "text/plain": [
              "<IPython.core.display.HTML object>"
            ]
          },
          "metadata": {
            "tags": []
          }
        },
        {
          "output_type": "display_data",
          "data": {
            "text/html": [
              "<span style=\"color:cyan\"> |-Score: 0.00017911929171532393</span>"
            ],
            "text/plain": [
              "<IPython.core.display.HTML object>"
            ]
          },
          "metadata": {
            "tags": []
          }
        },
        {
          "output_type": "display_data",
          "data": {
            "text/html": [
              "<span style=\"color:cyan\"> |-Best step: 0</span>"
            ],
            "text/plain": [
              "<IPython.core.display.HTML object>"
            ]
          },
          "metadata": {
            "tags": []
          }
        },
        {
          "output_type": "display_data",
          "data": {
            "text/html": [
              "<span style=\"color:#7E57C2\"><h2 style=\"font-size:16px\">Hyperparameters:</h2></span>"
            ],
            "text/plain": [
              "<IPython.core.display.HTML object>"
            ]
          },
          "metadata": {
            "tags": []
          }
        },
        {
          "output_type": "display_data",
          "data": {
            "text/html": [
              "<span style=\"color:cyan\"> |-layer_input: 96</span>"
            ],
            "text/plain": [
              "<IPython.core.display.HTML object>"
            ]
          },
          "metadata": {
            "tags": []
          }
        },
        {
          "output_type": "display_data",
          "data": {
            "text/html": [
              "<span style=\"color:blue\"> |-layer_output: 192</span>"
            ],
            "text/plain": [
              "<IPython.core.display.HTML object>"
            ]
          },
          "metadata": {
            "tags": []
          }
        },
        {
          "output_type": "stream",
          "text": [
            "Epoch 1/7\n",
            "239/239 [==============================] - 3s 14ms/step - loss: 3.5715e-05 - val_loss: 6.5412e-04\n",
            "Epoch 2/7\n",
            "239/239 [==============================] - 2s 10ms/step - loss: 7.4272e-06 - val_loss: 6.4230e-04\n",
            "Epoch 3/7\n",
            "239/239 [==============================] - 2s 10ms/step - loss: 7.0093e-06 - val_loss: 7.9993e-04\n",
            "Epoch 4/7\n",
            "239/239 [==============================] - 2s 10ms/step - loss: 5.5856e-06 - val_loss: 3.5161e-04\n",
            "Epoch 5/7\n",
            "239/239 [==============================] - 3s 11ms/step - loss: 5.5549e-06 - val_loss: 2.8289e-04\n",
            "Epoch 6/7\n",
            "239/239 [==============================] - 2s 10ms/step - loss: 4.9824e-06 - val_loss: 4.4411e-04\n",
            "Epoch 7/7\n",
            "239/239 [==============================] - 2s 10ms/step - loss: 4.4415e-06 - val_loss: 3.2922e-04\n"
          ],
          "name": "stdout"
        },
        {
          "output_type": "display_data",
          "data": {
            "text/html": [
              "<span style=\"color:#4527A0\"><h1 style=\"font-size:18px\">Trial complete</h1></span>"
            ],
            "text/plain": [
              "<IPython.core.display.HTML object>"
            ]
          },
          "metadata": {
            "tags": []
          }
        },
        {
          "output_type": "display_data",
          "data": {
            "text/html": [
              "<span style=\"color:#4527A0\"><h1 style=\"font-size:18px\">Trial summary</h1></span>"
            ],
            "text/plain": [
              "<IPython.core.display.HTML object>"
            ]
          },
          "metadata": {
            "tags": []
          }
        },
        {
          "output_type": "display_data",
          "data": {
            "text/html": [
              "<span style=\"color:cyan\"> |-Trial ID: 77cd6cdf7fa486f1c9dede9f737dcd7b</span>"
            ],
            "text/plain": [
              "<IPython.core.display.HTML object>"
            ]
          },
          "metadata": {
            "tags": []
          }
        },
        {
          "output_type": "display_data",
          "data": {
            "text/html": [
              "<span style=\"color:cyan\"> |-Score: 0.0002828860597219318</span>"
            ],
            "text/plain": [
              "<IPython.core.display.HTML object>"
            ]
          },
          "metadata": {
            "tags": []
          }
        },
        {
          "output_type": "display_data",
          "data": {
            "text/html": [
              "<span style=\"color:cyan\"> |-Best step: 0</span>"
            ],
            "text/plain": [
              "<IPython.core.display.HTML object>"
            ]
          },
          "metadata": {
            "tags": []
          }
        },
        {
          "output_type": "display_data",
          "data": {
            "text/html": [
              "<span style=\"color:#7E57C2\"><h2 style=\"font-size:16px\">Hyperparameters:</h2></span>"
            ],
            "text/plain": [
              "<IPython.core.display.HTML object>"
            ]
          },
          "metadata": {
            "tags": []
          }
        },
        {
          "output_type": "display_data",
          "data": {
            "text/html": [
              "<span style=\"color:cyan\"> |-layer_input: 128</span>"
            ],
            "text/plain": [
              "<IPython.core.display.HTML object>"
            ]
          },
          "metadata": {
            "tags": []
          }
        },
        {
          "output_type": "display_data",
          "data": {
            "text/html": [
              "<span style=\"color:blue\"> |-layer_output: 160</span>"
            ],
            "text/plain": [
              "<IPython.core.display.HTML object>"
            ]
          },
          "metadata": {
            "tags": []
          }
        },
        {
          "output_type": "stream",
          "text": [
            "Epoch 1/7\n",
            "239/239 [==============================] - 3s 14ms/step - loss: 3.0462e-05 - val_loss: 0.0015\n",
            "Epoch 2/7\n",
            "239/239 [==============================] - 3s 11ms/step - loss: 7.3325e-06 - val_loss: 5.2950e-04\n",
            "Epoch 3/7\n",
            "239/239 [==============================] - 3s 11ms/step - loss: 8.5139e-06 - val_loss: 4.5691e-04\n",
            "Epoch 4/7\n",
            "239/239 [==============================] - 3s 11ms/step - loss: 5.2349e-06 - val_loss: 2.7617e-04\n",
            "Epoch 5/7\n",
            "239/239 [==============================] - 3s 11ms/step - loss: 5.1174e-06 - val_loss: 2.1017e-04\n",
            "Epoch 6/7\n",
            "239/239 [==============================] - 3s 11ms/step - loss: 4.3398e-06 - val_loss: 2.0181e-04\n",
            "Epoch 7/7\n",
            "239/239 [==============================] - 2s 10ms/step - loss: 4.6352e-06 - val_loss: 3.7508e-04\n"
          ],
          "name": "stdout"
        },
        {
          "output_type": "display_data",
          "data": {
            "text/html": [
              "<span style=\"color:#4527A0\"><h1 style=\"font-size:18px\">Trial complete</h1></span>"
            ],
            "text/plain": [
              "<IPython.core.display.HTML object>"
            ]
          },
          "metadata": {
            "tags": []
          }
        },
        {
          "output_type": "display_data",
          "data": {
            "text/html": [
              "<span style=\"color:#4527A0\"><h1 style=\"font-size:18px\">Trial summary</h1></span>"
            ],
            "text/plain": [
              "<IPython.core.display.HTML object>"
            ]
          },
          "metadata": {
            "tags": []
          }
        },
        {
          "output_type": "display_data",
          "data": {
            "text/html": [
              "<span style=\"color:cyan\"> |-Trial ID: f93a53d76049c94b3e28c63c8ce2c33f</span>"
            ],
            "text/plain": [
              "<IPython.core.display.HTML object>"
            ]
          },
          "metadata": {
            "tags": []
          }
        },
        {
          "output_type": "display_data",
          "data": {
            "text/html": [
              "<span style=\"color:cyan\"> |-Score: 0.00020181095169391483</span>"
            ],
            "text/plain": [
              "<IPython.core.display.HTML object>"
            ]
          },
          "metadata": {
            "tags": []
          }
        },
        {
          "output_type": "display_data",
          "data": {
            "text/html": [
              "<span style=\"color:cyan\"> |-Best step: 0</span>"
            ],
            "text/plain": [
              "<IPython.core.display.HTML object>"
            ]
          },
          "metadata": {
            "tags": []
          }
        },
        {
          "output_type": "display_data",
          "data": {
            "text/html": [
              "<span style=\"color:#7E57C2\"><h2 style=\"font-size:16px\">Hyperparameters:</h2></span>"
            ],
            "text/plain": [
              "<IPython.core.display.HTML object>"
            ]
          },
          "metadata": {
            "tags": []
          }
        },
        {
          "output_type": "display_data",
          "data": {
            "text/html": [
              "<span style=\"color:cyan\"> |-layer_input: 224</span>"
            ],
            "text/plain": [
              "<IPython.core.display.HTML object>"
            ]
          },
          "metadata": {
            "tags": []
          }
        },
        {
          "output_type": "display_data",
          "data": {
            "text/html": [
              "<span style=\"color:blue\"> |-layer_output: 192</span>"
            ],
            "text/plain": [
              "<IPython.core.display.HTML object>"
            ]
          },
          "metadata": {
            "tags": []
          }
        },
        {
          "output_type": "stream",
          "text": [
            "Epoch 1/7\n",
            "239/239 [==============================] - 3s 13ms/step - loss: 4.8605e-05 - val_loss: 6.4578e-04\n",
            "Epoch 2/7\n",
            "239/239 [==============================] - 2s 10ms/step - loss: 6.2024e-06 - val_loss: 5.6549e-04\n",
            "Epoch 3/7\n",
            "239/239 [==============================] - 2s 10ms/step - loss: 7.2638e-06 - val_loss: 5.9971e-04\n",
            "Epoch 4/7\n",
            "239/239 [==============================] - 3s 11ms/step - loss: 6.5970e-06 - val_loss: 4.0755e-04\n",
            "Epoch 5/7\n",
            "239/239 [==============================] - 2s 10ms/step - loss: 5.3725e-06 - val_loss: 3.9511e-04\n",
            "Epoch 6/7\n",
            "239/239 [==============================] - 2s 10ms/step - loss: 5.2590e-06 - val_loss: 3.3234e-04\n",
            "Epoch 7/7\n",
            "239/239 [==============================] - 2s 10ms/step - loss: 4.7494e-06 - val_loss: 6.8079e-04\n"
          ],
          "name": "stdout"
        },
        {
          "output_type": "display_data",
          "data": {
            "text/html": [
              "<span style=\"color:#4527A0\"><h1 style=\"font-size:18px\">Trial complete</h1></span>"
            ],
            "text/plain": [
              "<IPython.core.display.HTML object>"
            ]
          },
          "metadata": {
            "tags": []
          }
        },
        {
          "output_type": "display_data",
          "data": {
            "text/html": [
              "<span style=\"color:#4527A0\"><h1 style=\"font-size:18px\">Trial summary</h1></span>"
            ],
            "text/plain": [
              "<IPython.core.display.HTML object>"
            ]
          },
          "metadata": {
            "tags": []
          }
        },
        {
          "output_type": "display_data",
          "data": {
            "text/html": [
              "<span style=\"color:cyan\"> |-Trial ID: 3911217c13e9abdbb0530a921e9addba</span>"
            ],
            "text/plain": [
              "<IPython.core.display.HTML object>"
            ]
          },
          "metadata": {
            "tags": []
          }
        },
        {
          "output_type": "display_data",
          "data": {
            "text/html": [
              "<span style=\"color:cyan\"> |-Score: 0.0003323403070680797</span>"
            ],
            "text/plain": [
              "<IPython.core.display.HTML object>"
            ]
          },
          "metadata": {
            "tags": []
          }
        },
        {
          "output_type": "display_data",
          "data": {
            "text/html": [
              "<span style=\"color:cyan\"> |-Best step: 0</span>"
            ],
            "text/plain": [
              "<IPython.core.display.HTML object>"
            ]
          },
          "metadata": {
            "tags": []
          }
        },
        {
          "output_type": "display_data",
          "data": {
            "text/html": [
              "<span style=\"color:#7E57C2\"><h2 style=\"font-size:16px\">Hyperparameters:</h2></span>"
            ],
            "text/plain": [
              "<IPython.core.display.HTML object>"
            ]
          },
          "metadata": {
            "tags": []
          }
        },
        {
          "output_type": "display_data",
          "data": {
            "text/html": [
              "<span style=\"color:cyan\"> |-layer_input: 192</span>"
            ],
            "text/plain": [
              "<IPython.core.display.HTML object>"
            ]
          },
          "metadata": {
            "tags": []
          }
        },
        {
          "output_type": "display_data",
          "data": {
            "text/html": [
              "<span style=\"color:blue\"> |-layer_output: 96</span>"
            ],
            "text/plain": [
              "<IPython.core.display.HTML object>"
            ]
          },
          "metadata": {
            "tags": []
          }
        },
        {
          "output_type": "stream",
          "text": [
            "Epoch 1/7\n",
            "239/239 [==============================] - 3s 13ms/step - loss: 5.2447e-05 - val_loss: 0.0016\n",
            "Epoch 2/7\n",
            "239/239 [==============================] - 2s 10ms/step - loss: 7.3355e-06 - val_loss: 7.9287e-04\n",
            "Epoch 3/7\n",
            "239/239 [==============================] - 3s 11ms/step - loss: 6.9399e-06 - val_loss: 5.8247e-04\n",
            "Epoch 4/7\n",
            "239/239 [==============================] - 2s 10ms/step - loss: 5.8413e-06 - val_loss: 4.8496e-04\n",
            "Epoch 5/7\n",
            "239/239 [==============================] - 2s 10ms/step - loss: 4.9590e-06 - val_loss: 2.9958e-04\n",
            "Epoch 6/7\n",
            "239/239 [==============================] - 2s 10ms/step - loss: 4.8591e-06 - val_loss: 3.3078e-04\n",
            "Epoch 7/7\n",
            "239/239 [==============================] - 2s 10ms/step - loss: 4.6505e-06 - val_loss: 2.8582e-04\n"
          ],
          "name": "stdout"
        },
        {
          "output_type": "display_data",
          "data": {
            "text/html": [
              "<span style=\"color:#4527A0\"><h1 style=\"font-size:18px\">Trial complete</h1></span>"
            ],
            "text/plain": [
              "<IPython.core.display.HTML object>"
            ]
          },
          "metadata": {
            "tags": []
          }
        },
        {
          "output_type": "display_data",
          "data": {
            "text/html": [
              "<span style=\"color:#4527A0\"><h1 style=\"font-size:18px\">Trial summary</h1></span>"
            ],
            "text/plain": [
              "<IPython.core.display.HTML object>"
            ]
          },
          "metadata": {
            "tags": []
          }
        },
        {
          "output_type": "display_data",
          "data": {
            "text/html": [
              "<span style=\"color:cyan\"> |-Trial ID: d6a988f29dcf78dbfaf438055d9e451f</span>"
            ],
            "text/plain": [
              "<IPython.core.display.HTML object>"
            ]
          },
          "metadata": {
            "tags": []
          }
        },
        {
          "output_type": "display_data",
          "data": {
            "text/html": [
              "<span style=\"color:cyan\"> |-Score: 0.0002858246152754873</span>"
            ],
            "text/plain": [
              "<IPython.core.display.HTML object>"
            ]
          },
          "metadata": {
            "tags": []
          }
        },
        {
          "output_type": "display_data",
          "data": {
            "text/html": [
              "<span style=\"color:cyan\"> |-Best step: 0</span>"
            ],
            "text/plain": [
              "<IPython.core.display.HTML object>"
            ]
          },
          "metadata": {
            "tags": []
          }
        },
        {
          "output_type": "display_data",
          "data": {
            "text/html": [
              "<span style=\"color:#7E57C2\"><h2 style=\"font-size:16px\">Hyperparameters:</h2></span>"
            ],
            "text/plain": [
              "<IPython.core.display.HTML object>"
            ]
          },
          "metadata": {
            "tags": []
          }
        },
        {
          "output_type": "display_data",
          "data": {
            "text/html": [
              "<span style=\"color:cyan\"> |-layer_input: 128</span>"
            ],
            "text/plain": [
              "<IPython.core.display.HTML object>"
            ]
          },
          "metadata": {
            "tags": []
          }
        },
        {
          "output_type": "display_data",
          "data": {
            "text/html": [
              "<span style=\"color:blue\"> |-layer_output: 64</span>"
            ],
            "text/plain": [
              "<IPython.core.display.HTML object>"
            ]
          },
          "metadata": {
            "tags": []
          }
        },
        {
          "output_type": "stream",
          "text": [
            "Epoch 1/7\n",
            "239/239 [==============================] - 3s 14ms/step - loss: 4.2972e-05 - val_loss: 4.5558e-04\n",
            "Epoch 2/7\n",
            "239/239 [==============================] - 3s 11ms/step - loss: 6.3004e-06 - val_loss: 6.2829e-04\n",
            "Epoch 3/7\n",
            "239/239 [==============================] - 3s 11ms/step - loss: 5.3473e-06 - val_loss: 4.8796e-04\n",
            "Epoch 4/7\n",
            "239/239 [==============================] - 3s 11ms/step - loss: 5.7188e-06 - val_loss: 3.6116e-04\n",
            "Epoch 5/7\n",
            "239/239 [==============================] - 3s 11ms/step - loss: 5.2793e-06 - val_loss: 1.8535e-04\n",
            "Epoch 6/7\n",
            "239/239 [==============================] - 3s 11ms/step - loss: 4.8522e-06 - val_loss: 2.0797e-04\n",
            "Epoch 7/7\n",
            "239/239 [==============================] - 3s 11ms/step - loss: 4.4640e-06 - val_loss: 3.6802e-04\n"
          ],
          "name": "stdout"
        },
        {
          "output_type": "display_data",
          "data": {
            "text/html": [
              "<span style=\"color:#4527A0\"><h1 style=\"font-size:18px\">Trial complete</h1></span>"
            ],
            "text/plain": [
              "<IPython.core.display.HTML object>"
            ]
          },
          "metadata": {
            "tags": []
          }
        },
        {
          "output_type": "display_data",
          "data": {
            "text/html": [
              "<span style=\"color:#4527A0\"><h1 style=\"font-size:18px\">Trial summary</h1></span>"
            ],
            "text/plain": [
              "<IPython.core.display.HTML object>"
            ]
          },
          "metadata": {
            "tags": []
          }
        },
        {
          "output_type": "display_data",
          "data": {
            "text/html": [
              "<span style=\"color:cyan\"> |-Trial ID: 712cea2c559462af77eff35e0bdc02f2</span>"
            ],
            "text/plain": [
              "<IPython.core.display.HTML object>"
            ]
          },
          "metadata": {
            "tags": []
          }
        },
        {
          "output_type": "display_data",
          "data": {
            "text/html": [
              "<span style=\"color:cyan\"> |-Score: 0.00018535325943958014</span>"
            ],
            "text/plain": [
              "<IPython.core.display.HTML object>"
            ]
          },
          "metadata": {
            "tags": []
          }
        },
        {
          "output_type": "display_data",
          "data": {
            "text/html": [
              "<span style=\"color:cyan\"> |-Best step: 0</span>"
            ],
            "text/plain": [
              "<IPython.core.display.HTML object>"
            ]
          },
          "metadata": {
            "tags": []
          }
        },
        {
          "output_type": "display_data",
          "data": {
            "text/html": [
              "<span style=\"color:#7E57C2\"><h2 style=\"font-size:16px\">Hyperparameters:</h2></span>"
            ],
            "text/plain": [
              "<IPython.core.display.HTML object>"
            ]
          },
          "metadata": {
            "tags": []
          }
        },
        {
          "output_type": "display_data",
          "data": {
            "text/html": [
              "<span style=\"color:cyan\"> |-layer_input: 192</span>"
            ],
            "text/plain": [
              "<IPython.core.display.HTML object>"
            ]
          },
          "metadata": {
            "tags": []
          }
        },
        {
          "output_type": "display_data",
          "data": {
            "text/html": [
              "<span style=\"color:blue\"> |-layer_output: 224</span>"
            ],
            "text/plain": [
              "<IPython.core.display.HTML object>"
            ]
          },
          "metadata": {
            "tags": []
          }
        },
        {
          "output_type": "stream",
          "text": [
            "Epoch 1/7\n",
            "239/239 [==============================] - 3s 14ms/step - loss: 3.4190e-05 - val_loss: 7.8411e-04\n",
            "Epoch 2/7\n",
            "239/239 [==============================] - 2s 10ms/step - loss: 8.4972e-06 - val_loss: 6.3665e-04\n",
            "Epoch 3/7\n",
            "239/239 [==============================] - 2s 10ms/step - loss: 5.3313e-06 - val_loss: 4.5570e-04\n",
            "Epoch 4/7\n",
            "239/239 [==============================] - 2s 10ms/step - loss: 5.4831e-06 - val_loss: 4.8129e-04\n",
            "Epoch 5/7\n",
            "239/239 [==============================] - 2s 10ms/step - loss: 4.9730e-06 - val_loss: 5.2956e-04\n",
            "Epoch 6/7\n",
            "239/239 [==============================] - 3s 11ms/step - loss: 4.3602e-06 - val_loss: 3.2740e-04\n",
            "Epoch 7/7\n",
            "239/239 [==============================] - 2s 10ms/step - loss: 5.0391e-06 - val_loss: 3.1097e-04\n"
          ],
          "name": "stdout"
        },
        {
          "output_type": "display_data",
          "data": {
            "text/html": [
              "<span style=\"color:#4527A0\"><h1 style=\"font-size:18px\">Trial complete</h1></span>"
            ],
            "text/plain": [
              "<IPython.core.display.HTML object>"
            ]
          },
          "metadata": {
            "tags": []
          }
        },
        {
          "output_type": "display_data",
          "data": {
            "text/html": [
              "<span style=\"color:#4527A0\"><h1 style=\"font-size:18px\">Trial summary</h1></span>"
            ],
            "text/plain": [
              "<IPython.core.display.HTML object>"
            ]
          },
          "metadata": {
            "tags": []
          }
        },
        {
          "output_type": "display_data",
          "data": {
            "text/html": [
              "<span style=\"color:cyan\"> |-Trial ID: d5cb72ed0b64a57b43074388979b3900</span>"
            ],
            "text/plain": [
              "<IPython.core.display.HTML object>"
            ]
          },
          "metadata": {
            "tags": []
          }
        },
        {
          "output_type": "display_data",
          "data": {
            "text/html": [
              "<span style=\"color:cyan\"> |-Score: 0.000310965086100623</span>"
            ],
            "text/plain": [
              "<IPython.core.display.HTML object>"
            ]
          },
          "metadata": {
            "tags": []
          }
        },
        {
          "output_type": "display_data",
          "data": {
            "text/html": [
              "<span style=\"color:cyan\"> |-Best step: 0</span>"
            ],
            "text/plain": [
              "<IPython.core.display.HTML object>"
            ]
          },
          "metadata": {
            "tags": []
          }
        },
        {
          "output_type": "display_data",
          "data": {
            "text/html": [
              "<span style=\"color:#7E57C2\"><h2 style=\"font-size:16px\">Hyperparameters:</h2></span>"
            ],
            "text/plain": [
              "<IPython.core.display.HTML object>"
            ]
          },
          "metadata": {
            "tags": []
          }
        },
        {
          "output_type": "display_data",
          "data": {
            "text/html": [
              "<span style=\"color:cyan\"> |-layer_input: 96</span>"
            ],
            "text/plain": [
              "<IPython.core.display.HTML object>"
            ]
          },
          "metadata": {
            "tags": []
          }
        },
        {
          "output_type": "display_data",
          "data": {
            "text/html": [
              "<span style=\"color:blue\"> |-layer_output: 224</span>"
            ],
            "text/plain": [
              "<IPython.core.display.HTML object>"
            ]
          },
          "metadata": {
            "tags": []
          }
        },
        {
          "output_type": "stream",
          "text": [
            "Epoch 1/7\n",
            "239/239 [==============================] - 3s 13ms/step - loss: 4.8420e-05 - val_loss: 7.5242e-04\n",
            "Epoch 2/7\n",
            "239/239 [==============================] - 2s 10ms/step - loss: 7.1999e-06 - val_loss: 4.6540e-04\n",
            "Epoch 3/7\n",
            "239/239 [==============================] - 2s 10ms/step - loss: 6.5318e-06 - val_loss: 5.4229e-04\n",
            "Epoch 4/7\n",
            "239/239 [==============================] - 2s 10ms/step - loss: 6.0439e-06 - val_loss: 5.1051e-04\n",
            "Epoch 5/7\n",
            "239/239 [==============================] - 3s 11ms/step - loss: 5.4008e-06 - val_loss: 3.7272e-04\n",
            "Epoch 6/7\n",
            "239/239 [==============================] - 2s 10ms/step - loss: 4.3120e-06 - val_loss: 2.2075e-04\n",
            "Epoch 7/7\n",
            "239/239 [==============================] - 2s 10ms/step - loss: 5.2109e-06 - val_loss: 3.6844e-04\n"
          ],
          "name": "stdout"
        },
        {
          "output_type": "display_data",
          "data": {
            "text/html": [
              "<span style=\"color:#4527A0\"><h1 style=\"font-size:18px\">Trial complete</h1></span>"
            ],
            "text/plain": [
              "<IPython.core.display.HTML object>"
            ]
          },
          "metadata": {
            "tags": []
          }
        },
        {
          "output_type": "display_data",
          "data": {
            "text/html": [
              "<span style=\"color:#4527A0\"><h1 style=\"font-size:18px\">Trial summary</h1></span>"
            ],
            "text/plain": [
              "<IPython.core.display.HTML object>"
            ]
          },
          "metadata": {
            "tags": []
          }
        },
        {
          "output_type": "display_data",
          "data": {
            "text/html": [
              "<span style=\"color:cyan\"> |-Trial ID: a8edc4d5a5b3a838a195e88cc1cd1cc1</span>"
            ],
            "text/plain": [
              "<IPython.core.display.HTML object>"
            ]
          },
          "metadata": {
            "tags": []
          }
        },
        {
          "output_type": "display_data",
          "data": {
            "text/html": [
              "<span style=\"color:cyan\"> |-Score: 0.00022074727166909724</span>"
            ],
            "text/plain": [
              "<IPython.core.display.HTML object>"
            ]
          },
          "metadata": {
            "tags": []
          }
        },
        {
          "output_type": "display_data",
          "data": {
            "text/html": [
              "<span style=\"color:cyan\"> |-Best step: 0</span>"
            ],
            "text/plain": [
              "<IPython.core.display.HTML object>"
            ]
          },
          "metadata": {
            "tags": []
          }
        },
        {
          "output_type": "display_data",
          "data": {
            "text/html": [
              "<span style=\"color:#7E57C2\"><h2 style=\"font-size:16px\">Hyperparameters:</h2></span>"
            ],
            "text/plain": [
              "<IPython.core.display.HTML object>"
            ]
          },
          "metadata": {
            "tags": []
          }
        },
        {
          "output_type": "display_data",
          "data": {
            "text/html": [
              "<span style=\"color:cyan\"> |-layer_input: 160</span>"
            ],
            "text/plain": [
              "<IPython.core.display.HTML object>"
            ]
          },
          "metadata": {
            "tags": []
          }
        },
        {
          "output_type": "display_data",
          "data": {
            "text/html": [
              "<span style=\"color:blue\"> |-layer_output: 160</span>"
            ],
            "text/plain": [
              "<IPython.core.display.HTML object>"
            ]
          },
          "metadata": {
            "tags": []
          }
        },
        {
          "output_type": "stream",
          "text": [
            "Epoch 1/7\n",
            "239/239 [==============================] - 3s 14ms/step - loss: 4.9215e-05 - val_loss: 7.2449e-04\n",
            "Epoch 2/7\n",
            "239/239 [==============================] - 2s 10ms/step - loss: 8.5956e-06 - val_loss: 6.0915e-04\n",
            "Epoch 3/7\n",
            "239/239 [==============================] - 2s 10ms/step - loss: 5.1220e-06 - val_loss: 5.2476e-04\n",
            "Epoch 4/7\n",
            "239/239 [==============================] - 2s 10ms/step - loss: 5.9092e-06 - val_loss: 4.5036e-04\n",
            "Epoch 5/7\n",
            "239/239 [==============================] - 2s 10ms/step - loss: 5.1648e-06 - val_loss: 2.7752e-04\n",
            "Epoch 6/7\n",
            "239/239 [==============================] - 2s 10ms/step - loss: 4.2606e-06 - val_loss: 3.7299e-04\n",
            "Epoch 7/7\n",
            "239/239 [==============================] - 2s 10ms/step - loss: 4.5677e-06 - val_loss: 2.7540e-04\n"
          ],
          "name": "stdout"
        },
        {
          "output_type": "display_data",
          "data": {
            "text/html": [
              "<span style=\"color:#4527A0\"><h1 style=\"font-size:18px\">Trial complete</h1></span>"
            ],
            "text/plain": [
              "<IPython.core.display.HTML object>"
            ]
          },
          "metadata": {
            "tags": []
          }
        },
        {
          "output_type": "display_data",
          "data": {
            "text/html": [
              "<span style=\"color:#4527A0\"><h1 style=\"font-size:18px\">Trial summary</h1></span>"
            ],
            "text/plain": [
              "<IPython.core.display.HTML object>"
            ]
          },
          "metadata": {
            "tags": []
          }
        },
        {
          "output_type": "display_data",
          "data": {
            "text/html": [
              "<span style=\"color:cyan\"> |-Trial ID: f471007cb477dc8618f9f1130e7d7902</span>"
            ],
            "text/plain": [
              "<IPython.core.display.HTML object>"
            ]
          },
          "metadata": {
            "tags": []
          }
        },
        {
          "output_type": "display_data",
          "data": {
            "text/html": [
              "<span style=\"color:cyan\"> |-Score: 0.00027540334849618375</span>"
            ],
            "text/plain": [
              "<IPython.core.display.HTML object>"
            ]
          },
          "metadata": {
            "tags": []
          }
        },
        {
          "output_type": "display_data",
          "data": {
            "text/html": [
              "<span style=\"color:cyan\"> |-Best step: 0</span>"
            ],
            "text/plain": [
              "<IPython.core.display.HTML object>"
            ]
          },
          "metadata": {
            "tags": []
          }
        },
        {
          "output_type": "display_data",
          "data": {
            "text/html": [
              "<span style=\"color:#7E57C2\"><h2 style=\"font-size:16px\">Hyperparameters:</h2></span>"
            ],
            "text/plain": [
              "<IPython.core.display.HTML object>"
            ]
          },
          "metadata": {
            "tags": []
          }
        },
        {
          "output_type": "display_data",
          "data": {
            "text/html": [
              "<span style=\"color:cyan\"> |-layer_input: 128</span>"
            ],
            "text/plain": [
              "<IPython.core.display.HTML object>"
            ]
          },
          "metadata": {
            "tags": []
          }
        },
        {
          "output_type": "display_data",
          "data": {
            "text/html": [
              "<span style=\"color:blue\"> |-layer_output: 128</span>"
            ],
            "text/plain": [
              "<IPython.core.display.HTML object>"
            ]
          },
          "metadata": {
            "tags": []
          }
        },
        {
          "output_type": "stream",
          "text": [
            "Epoch 1/7\n",
            "239/239 [==============================] - 3s 13ms/step - loss: 3.8175e-05 - val_loss: 0.0010\n",
            "Epoch 2/7\n",
            "239/239 [==============================] - 2s 10ms/step - loss: 7.5333e-06 - val_loss: 8.9232e-04\n",
            "Epoch 3/7\n",
            "239/239 [==============================] - 3s 11ms/step - loss: 5.9937e-06 - val_loss: 6.8843e-04\n",
            "Epoch 4/7\n",
            "239/239 [==============================] - 2s 10ms/step - loss: 5.4964e-06 - val_loss: 5.8597e-04\n",
            "Epoch 5/7\n",
            "239/239 [==============================] - 3s 11ms/step - loss: 5.5958e-06 - val_loss: 5.6029e-04\n",
            "Epoch 6/7\n",
            "239/239 [==============================] - 2s 10ms/step - loss: 4.9606e-06 - val_loss: 3.7793e-04\n",
            "Epoch 7/7\n",
            "239/239 [==============================] - 2s 10ms/step - loss: 6.1441e-06 - val_loss: 6.4135e-04\n"
          ],
          "name": "stdout"
        },
        {
          "output_type": "display_data",
          "data": {
            "text/html": [
              "<span style=\"color:#4527A0\"><h1 style=\"font-size:18px\">Trial complete</h1></span>"
            ],
            "text/plain": [
              "<IPython.core.display.HTML object>"
            ]
          },
          "metadata": {
            "tags": []
          }
        },
        {
          "output_type": "display_data",
          "data": {
            "text/html": [
              "<span style=\"color:#4527A0\"><h1 style=\"font-size:18px\">Trial summary</h1></span>"
            ],
            "text/plain": [
              "<IPython.core.display.HTML object>"
            ]
          },
          "metadata": {
            "tags": []
          }
        },
        {
          "output_type": "display_data",
          "data": {
            "text/html": [
              "<span style=\"color:cyan\"> |-Trial ID: 3a970fe448141e359b0150bef84c65d1</span>"
            ],
            "text/plain": [
              "<IPython.core.display.HTML object>"
            ]
          },
          "metadata": {
            "tags": []
          }
        },
        {
          "output_type": "display_data",
          "data": {
            "text/html": [
              "<span style=\"color:cyan\"> |-Score: 0.00037792848888784647</span>"
            ],
            "text/plain": [
              "<IPython.core.display.HTML object>"
            ]
          },
          "metadata": {
            "tags": []
          }
        },
        {
          "output_type": "display_data",
          "data": {
            "text/html": [
              "<span style=\"color:cyan\"> |-Best step: 0</span>"
            ],
            "text/plain": [
              "<IPython.core.display.HTML object>"
            ]
          },
          "metadata": {
            "tags": []
          }
        },
        {
          "output_type": "display_data",
          "data": {
            "text/html": [
              "<span style=\"color:#7E57C2\"><h2 style=\"font-size:16px\">Hyperparameters:</h2></span>"
            ],
            "text/plain": [
              "<IPython.core.display.HTML object>"
            ]
          },
          "metadata": {
            "tags": []
          }
        },
        {
          "output_type": "display_data",
          "data": {
            "text/html": [
              "<span style=\"color:cyan\"> |-layer_input: 160</span>"
            ],
            "text/plain": [
              "<IPython.core.display.HTML object>"
            ]
          },
          "metadata": {
            "tags": []
          }
        },
        {
          "output_type": "display_data",
          "data": {
            "text/html": [
              "<span style=\"color:blue\"> |-layer_output: 32</span>"
            ],
            "text/plain": [
              "<IPython.core.display.HTML object>"
            ]
          },
          "metadata": {
            "tags": []
          }
        },
        {
          "output_type": "stream",
          "text": [
            "Epoch 1/7\n",
            "239/239 [==============================] - 3s 13ms/step - loss: 5.6861e-05 - val_loss: 0.0013\n",
            "Epoch 2/7\n",
            "239/239 [==============================] - 2s 10ms/step - loss: 7.5123e-06 - val_loss: 6.7346e-04\n",
            "Epoch 3/7\n",
            "239/239 [==============================] - 2s 9ms/step - loss: 5.8292e-06 - val_loss: 3.9512e-04\n",
            "Epoch 4/7\n",
            "239/239 [==============================] - 2s 10ms/step - loss: 6.3766e-06 - val_loss: 5.5109e-04\n",
            "Epoch 5/7\n",
            "239/239 [==============================] - 2s 10ms/step - loss: 6.5159e-06 - val_loss: 3.8046e-04\n",
            "Epoch 6/7\n",
            "239/239 [==============================] - 2s 10ms/step - loss: 4.5526e-06 - val_loss: 2.3073e-04\n",
            "Epoch 7/7\n",
            "239/239 [==============================] - 2s 10ms/step - loss: 4.8093e-06 - val_loss: 2.7391e-04\n"
          ],
          "name": "stdout"
        },
        {
          "output_type": "display_data",
          "data": {
            "text/html": [
              "<span style=\"color:#4527A0\"><h1 style=\"font-size:18px\">Trial complete</h1></span>"
            ],
            "text/plain": [
              "<IPython.core.display.HTML object>"
            ]
          },
          "metadata": {
            "tags": []
          }
        },
        {
          "output_type": "display_data",
          "data": {
            "text/html": [
              "<span style=\"color:#4527A0\"><h1 style=\"font-size:18px\">Trial summary</h1></span>"
            ],
            "text/plain": [
              "<IPython.core.display.HTML object>"
            ]
          },
          "metadata": {
            "tags": []
          }
        },
        {
          "output_type": "display_data",
          "data": {
            "text/html": [
              "<span style=\"color:cyan\"> |-Trial ID: 172683b3e9720a0b19a744fadb957c5f</span>"
            ],
            "text/plain": [
              "<IPython.core.display.HTML object>"
            ]
          },
          "metadata": {
            "tags": []
          }
        },
        {
          "output_type": "display_data",
          "data": {
            "text/html": [
              "<span style=\"color:cyan\"> |-Score: 0.00023072969634085894</span>"
            ],
            "text/plain": [
              "<IPython.core.display.HTML object>"
            ]
          },
          "metadata": {
            "tags": []
          }
        },
        {
          "output_type": "display_data",
          "data": {
            "text/html": [
              "<span style=\"color:cyan\"> |-Best step: 0</span>"
            ],
            "text/plain": [
              "<IPython.core.display.HTML object>"
            ]
          },
          "metadata": {
            "tags": []
          }
        },
        {
          "output_type": "display_data",
          "data": {
            "text/html": [
              "<span style=\"color:#7E57C2\"><h2 style=\"font-size:16px\">Hyperparameters:</h2></span>"
            ],
            "text/plain": [
              "<IPython.core.display.HTML object>"
            ]
          },
          "metadata": {
            "tags": []
          }
        },
        {
          "output_type": "display_data",
          "data": {
            "text/html": [
              "<span style=\"color:cyan\"> |-layer_input: 96</span>"
            ],
            "text/plain": [
              "<IPython.core.display.HTML object>"
            ]
          },
          "metadata": {
            "tags": []
          }
        },
        {
          "output_type": "display_data",
          "data": {
            "text/html": [
              "<span style=\"color:blue\"> |-layer_output: 96</span>"
            ],
            "text/plain": [
              "<IPython.core.display.HTML object>"
            ]
          },
          "metadata": {
            "tags": []
          }
        },
        {
          "output_type": "stream",
          "text": [
            "Epoch 1/7\n",
            "239/239 [==============================] - 3s 14ms/step - loss: 4.2027e-05 - val_loss: 7.9570e-04\n",
            "Epoch 2/7\n",
            "239/239 [==============================] - 2s 10ms/step - loss: 6.3400e-06 - val_loss: 6.8185e-04\n",
            "Epoch 3/7\n",
            "239/239 [==============================] - 2s 10ms/step - loss: 6.8492e-06 - val_loss: 4.7640e-04\n",
            "Epoch 4/7\n",
            "239/239 [==============================] - 2s 10ms/step - loss: 5.1267e-06 - val_loss: 4.8577e-04\n",
            "Epoch 5/7\n",
            "239/239 [==============================] - 2s 10ms/step - loss: 5.9969e-06 - val_loss: 2.0341e-04\n",
            "Epoch 6/7\n",
            "239/239 [==============================] - 2s 10ms/step - loss: 4.4687e-06 - val_loss: 2.7902e-04\n",
            "Epoch 7/7\n",
            "239/239 [==============================] - 2s 10ms/step - loss: 4.4186e-06 - val_loss: 4.0650e-04\n"
          ],
          "name": "stdout"
        },
        {
          "output_type": "display_data",
          "data": {
            "text/html": [
              "<span style=\"color:#4527A0\"><h1 style=\"font-size:18px\">Trial complete</h1></span>"
            ],
            "text/plain": [
              "<IPython.core.display.HTML object>"
            ]
          },
          "metadata": {
            "tags": []
          }
        },
        {
          "output_type": "display_data",
          "data": {
            "text/html": [
              "<span style=\"color:#4527A0\"><h1 style=\"font-size:18px\">Trial summary</h1></span>"
            ],
            "text/plain": [
              "<IPython.core.display.HTML object>"
            ]
          },
          "metadata": {
            "tags": []
          }
        },
        {
          "output_type": "display_data",
          "data": {
            "text/html": [
              "<span style=\"color:cyan\"> |-Trial ID: c7bc09786cbcaa3ee41672790c8b4a4e</span>"
            ],
            "text/plain": [
              "<IPython.core.display.HTML object>"
            ]
          },
          "metadata": {
            "tags": []
          }
        },
        {
          "output_type": "display_data",
          "data": {
            "text/html": [
              "<span style=\"color:cyan\"> |-Score: 0.00020341078925412148</span>"
            ],
            "text/plain": [
              "<IPython.core.display.HTML object>"
            ]
          },
          "metadata": {
            "tags": []
          }
        },
        {
          "output_type": "display_data",
          "data": {
            "text/html": [
              "<span style=\"color:cyan\"> |-Best step: 0</span>"
            ],
            "text/plain": [
              "<IPython.core.display.HTML object>"
            ]
          },
          "metadata": {
            "tags": []
          }
        },
        {
          "output_type": "display_data",
          "data": {
            "text/html": [
              "<span style=\"color:#7E57C2\"><h2 style=\"font-size:16px\">Hyperparameters:</h2></span>"
            ],
            "text/plain": [
              "<IPython.core.display.HTML object>"
            ]
          },
          "metadata": {
            "tags": []
          }
        },
        {
          "output_type": "display_data",
          "data": {
            "text/html": [
              "<span style=\"color:cyan\"> |-layer_input: 192</span>"
            ],
            "text/plain": [
              "<IPython.core.display.HTML object>"
            ]
          },
          "metadata": {
            "tags": []
          }
        },
        {
          "output_type": "display_data",
          "data": {
            "text/html": [
              "<span style=\"color:blue\"> |-layer_output: 64</span>"
            ],
            "text/plain": [
              "<IPython.core.display.HTML object>"
            ]
          },
          "metadata": {
            "tags": []
          }
        },
        {
          "output_type": "stream",
          "text": [
            "Epoch 1/7\n",
            "239/239 [==============================] - 3s 13ms/step - loss: 2.8188e-05 - val_loss: 8.8183e-04\n",
            "Epoch 2/7\n",
            "239/239 [==============================] - 2s 10ms/step - loss: 7.1691e-06 - val_loss: 7.8198e-04\n",
            "Epoch 3/7\n",
            "239/239 [==============================] - 2s 10ms/step - loss: 7.0478e-06 - val_loss: 6.2707e-04\n",
            "Epoch 4/7\n",
            "239/239 [==============================] - 2s 10ms/step - loss: 6.1587e-06 - val_loss: 5.2321e-04\n",
            "Epoch 5/7\n",
            "239/239 [==============================] - 2s 10ms/step - loss: 4.9028e-06 - val_loss: 4.1848e-04\n",
            "Epoch 6/7\n",
            "239/239 [==============================] - 2s 10ms/step - loss: 4.9970e-06 - val_loss: 4.3037e-04\n",
            "Epoch 7/7\n",
            "239/239 [==============================] - 2s 9ms/step - loss: 4.8558e-06 - val_loss: 5.2185e-04\n"
          ],
          "name": "stdout"
        },
        {
          "output_type": "display_data",
          "data": {
            "text/html": [
              "<span style=\"color:#4527A0\"><h1 style=\"font-size:18px\">Trial complete</h1></span>"
            ],
            "text/plain": [
              "<IPython.core.display.HTML object>"
            ]
          },
          "metadata": {
            "tags": []
          }
        },
        {
          "output_type": "display_data",
          "data": {
            "text/html": [
              "<span style=\"color:#4527A0\"><h1 style=\"font-size:18px\">Trial summary</h1></span>"
            ],
            "text/plain": [
              "<IPython.core.display.HTML object>"
            ]
          },
          "metadata": {
            "tags": []
          }
        },
        {
          "output_type": "display_data",
          "data": {
            "text/html": [
              "<span style=\"color:cyan\"> |-Trial ID: 2d8966944bfb4724143258d15ae77d86</span>"
            ],
            "text/plain": [
              "<IPython.core.display.HTML object>"
            ]
          },
          "metadata": {
            "tags": []
          }
        },
        {
          "output_type": "display_data",
          "data": {
            "text/html": [
              "<span style=\"color:cyan\"> |-Score: 0.00041848266846500337</span>"
            ],
            "text/plain": [
              "<IPython.core.display.HTML object>"
            ]
          },
          "metadata": {
            "tags": []
          }
        },
        {
          "output_type": "display_data",
          "data": {
            "text/html": [
              "<span style=\"color:cyan\"> |-Best step: 0</span>"
            ],
            "text/plain": [
              "<IPython.core.display.HTML object>"
            ]
          },
          "metadata": {
            "tags": []
          }
        },
        {
          "output_type": "display_data",
          "data": {
            "text/html": [
              "<span style=\"color:#7E57C2\"><h2 style=\"font-size:16px\">Hyperparameters:</h2></span>"
            ],
            "text/plain": [
              "<IPython.core.display.HTML object>"
            ]
          },
          "metadata": {
            "tags": []
          }
        },
        {
          "output_type": "display_data",
          "data": {
            "text/html": [
              "<span style=\"color:cyan\"> |-layer_input: 32</span>"
            ],
            "text/plain": [
              "<IPython.core.display.HTML object>"
            ]
          },
          "metadata": {
            "tags": []
          }
        },
        {
          "output_type": "display_data",
          "data": {
            "text/html": [
              "<span style=\"color:blue\"> |-layer_output: 128</span>"
            ],
            "text/plain": [
              "<IPython.core.display.HTML object>"
            ]
          },
          "metadata": {
            "tags": []
          }
        },
        {
          "output_type": "stream",
          "text": [
            "Epoch 1/7\n",
            "239/239 [==============================] - 3s 14ms/step - loss: 3.6461e-05 - val_loss: 5.9854e-04\n",
            "Epoch 2/7\n",
            "239/239 [==============================] - 3s 11ms/step - loss: 6.4983e-06 - val_loss: 5.2456e-04\n",
            "Epoch 3/7\n",
            "239/239 [==============================] - 3s 11ms/step - loss: 5.8648e-06 - val_loss: 2.8297e-04\n",
            "Epoch 4/7\n",
            "239/239 [==============================] - 2s 10ms/step - loss: 5.0820e-06 - val_loss: 3.8642e-04\n",
            "Epoch 5/7\n",
            "239/239 [==============================] - 2s 10ms/step - loss: 4.9778e-06 - val_loss: 3.4786e-04\n",
            "Epoch 6/7\n",
            "239/239 [==============================] - ETA: 0s - loss: 4.0026e-06Restoring model weights from the end of the best epoch.\n",
            "239/239 [==============================] - 2s 10ms/step - loss: 4.0026e-06 - val_loss: 5.5752e-04\n",
            "Epoch 00006: early stopping\n"
          ],
          "name": "stdout"
        },
        {
          "output_type": "display_data",
          "data": {
            "text/html": [
              "<span style=\"color:#4527A0\"><h1 style=\"font-size:18px\">Trial complete</h1></span>"
            ],
            "text/plain": [
              "<IPython.core.display.HTML object>"
            ]
          },
          "metadata": {
            "tags": []
          }
        },
        {
          "output_type": "display_data",
          "data": {
            "text/html": [
              "<span style=\"color:#4527A0\"><h1 style=\"font-size:18px\">Trial summary</h1></span>"
            ],
            "text/plain": [
              "<IPython.core.display.HTML object>"
            ]
          },
          "metadata": {
            "tags": []
          }
        },
        {
          "output_type": "display_data",
          "data": {
            "text/html": [
              "<span style=\"color:cyan\"> |-Trial ID: 5b3e68206e11a056d780d3b2acebdb17</span>"
            ],
            "text/plain": [
              "<IPython.core.display.HTML object>"
            ]
          },
          "metadata": {
            "tags": []
          }
        },
        {
          "output_type": "display_data",
          "data": {
            "text/html": [
              "<span style=\"color:cyan\"> |-Score: 0.0002829674049280584</span>"
            ],
            "text/plain": [
              "<IPython.core.display.HTML object>"
            ]
          },
          "metadata": {
            "tags": []
          }
        },
        {
          "output_type": "display_data",
          "data": {
            "text/html": [
              "<span style=\"color:cyan\"> |-Best step: 0</span>"
            ],
            "text/plain": [
              "<IPython.core.display.HTML object>"
            ]
          },
          "metadata": {
            "tags": []
          }
        },
        {
          "output_type": "display_data",
          "data": {
            "text/html": [
              "<span style=\"color:#7E57C2\"><h2 style=\"font-size:16px\">Hyperparameters:</h2></span>"
            ],
            "text/plain": [
              "<IPython.core.display.HTML object>"
            ]
          },
          "metadata": {
            "tags": []
          }
        },
        {
          "output_type": "display_data",
          "data": {
            "text/html": [
              "<span style=\"color:cyan\"> |-layer_input: 192</span>"
            ],
            "text/plain": [
              "<IPython.core.display.HTML object>"
            ]
          },
          "metadata": {
            "tags": []
          }
        },
        {
          "output_type": "display_data",
          "data": {
            "text/html": [
              "<span style=\"color:blue\"> |-layer_output: 160</span>"
            ],
            "text/plain": [
              "<IPython.core.display.HTML object>"
            ]
          },
          "metadata": {
            "tags": []
          }
        },
        {
          "output_type": "stream",
          "text": [
            "Epoch 1/7\n",
            "239/239 [==============================] - 3s 13ms/step - loss: 2.7415e-05 - val_loss: 0.0012\n",
            "Epoch 2/7\n",
            "239/239 [==============================] - 2s 10ms/step - loss: 7.9996e-06 - val_loss: 9.7666e-04\n",
            "Epoch 3/7\n",
            "239/239 [==============================] - 2s 10ms/step - loss: 7.9539e-06 - val_loss: 3.7481e-04\n",
            "Epoch 4/7\n",
            "239/239 [==============================] - 2s 10ms/step - loss: 5.5348e-06 - val_loss: 4.6741e-04\n",
            "Epoch 5/7\n",
            "239/239 [==============================] - 2s 10ms/step - loss: 5.5400e-06 - val_loss: 4.5124e-04\n",
            "Epoch 6/7\n",
            "239/239 [==============================] - 2s 10ms/step - loss: 3.9486e-06 - val_loss: 2.0947e-04\n",
            "Epoch 7/7\n",
            "239/239 [==============================] - 2s 10ms/step - loss: 3.8274e-06 - val_loss: 2.2813e-04\n"
          ],
          "name": "stdout"
        },
        {
          "output_type": "display_data",
          "data": {
            "text/html": [
              "<span style=\"color:#4527A0\"><h1 style=\"font-size:18px\">Trial complete</h1></span>"
            ],
            "text/plain": [
              "<IPython.core.display.HTML object>"
            ]
          },
          "metadata": {
            "tags": []
          }
        },
        {
          "output_type": "display_data",
          "data": {
            "text/html": [
              "<span style=\"color:#4527A0\"><h1 style=\"font-size:18px\">Trial summary</h1></span>"
            ],
            "text/plain": [
              "<IPython.core.display.HTML object>"
            ]
          },
          "metadata": {
            "tags": []
          }
        },
        {
          "output_type": "display_data",
          "data": {
            "text/html": [
              "<span style=\"color:cyan\"> |-Trial ID: d42d9d5dda898da42a171c173f3fa960</span>"
            ],
            "text/plain": [
              "<IPython.core.display.HTML object>"
            ]
          },
          "metadata": {
            "tags": []
          }
        },
        {
          "output_type": "display_data",
          "data": {
            "text/html": [
              "<span style=\"color:cyan\"> |-Score: 0.0002094748051604256</span>"
            ],
            "text/plain": [
              "<IPython.core.display.HTML object>"
            ]
          },
          "metadata": {
            "tags": []
          }
        },
        {
          "output_type": "display_data",
          "data": {
            "text/html": [
              "<span style=\"color:cyan\"> |-Best step: 0</span>"
            ],
            "text/plain": [
              "<IPython.core.display.HTML object>"
            ]
          },
          "metadata": {
            "tags": []
          }
        },
        {
          "output_type": "display_data",
          "data": {
            "text/html": [
              "<span style=\"color:#7E57C2\"><h2 style=\"font-size:16px\">Hyperparameters:</h2></span>"
            ],
            "text/plain": [
              "<IPython.core.display.HTML object>"
            ]
          },
          "metadata": {
            "tags": []
          }
        },
        {
          "output_type": "display_data",
          "data": {
            "text/html": [
              "<span style=\"color:cyan\"> |-layer_input: 224</span>"
            ],
            "text/plain": [
              "<IPython.core.display.HTML object>"
            ]
          },
          "metadata": {
            "tags": []
          }
        },
        {
          "output_type": "display_data",
          "data": {
            "text/html": [
              "<span style=\"color:blue\"> |-layer_output: 64</span>"
            ],
            "text/plain": [
              "<IPython.core.display.HTML object>"
            ]
          },
          "metadata": {
            "tags": []
          }
        },
        {
          "output_type": "stream",
          "text": [
            "Epoch 1/7\n",
            "239/239 [==============================] - 3s 13ms/step - loss: 4.9400e-05 - val_loss: 0.0010\n",
            "Epoch 2/7\n",
            "239/239 [==============================] - 2s 10ms/step - loss: 7.2456e-06 - val_loss: 0.0013\n",
            "Epoch 3/7\n",
            "239/239 [==============================] - 2s 10ms/step - loss: 6.2410e-06 - val_loss: 8.5214e-04\n",
            "Epoch 4/7\n",
            "239/239 [==============================] - 3s 11ms/step - loss: 6.5270e-06 - val_loss: 4.4636e-04\n",
            "Epoch 5/7\n",
            "239/239 [==============================] - 2s 10ms/step - loss: 5.1769e-06 - val_loss: 7.9685e-04\n",
            "Epoch 6/7\n",
            "239/239 [==============================] - 2s 10ms/step - loss: 5.5943e-06 - val_loss: 0.0011\n",
            "Epoch 7/7\n",
            "239/239 [==============================] - 2s 10ms/step - loss: 4.2432e-06 - val_loss: 4.1747e-04\n"
          ],
          "name": "stdout"
        },
        {
          "output_type": "display_data",
          "data": {
            "text/html": [
              "<span style=\"color:#4527A0\"><h1 style=\"font-size:18px\">Trial complete</h1></span>"
            ],
            "text/plain": [
              "<IPython.core.display.HTML object>"
            ]
          },
          "metadata": {
            "tags": []
          }
        },
        {
          "output_type": "display_data",
          "data": {
            "text/html": [
              "<span style=\"color:#4527A0\"><h1 style=\"font-size:18px\">Trial summary</h1></span>"
            ],
            "text/plain": [
              "<IPython.core.display.HTML object>"
            ]
          },
          "metadata": {
            "tags": []
          }
        },
        {
          "output_type": "display_data",
          "data": {
            "text/html": [
              "<span style=\"color:cyan\"> |-Trial ID: ba8c13735ed2126d7eb13ab7b1396f55</span>"
            ],
            "text/plain": [
              "<IPython.core.display.HTML object>"
            ]
          },
          "metadata": {
            "tags": []
          }
        },
        {
          "output_type": "display_data",
          "data": {
            "text/html": [
              "<span style=\"color:cyan\"> |-Score: 0.0004174706991761923</span>"
            ],
            "text/plain": [
              "<IPython.core.display.HTML object>"
            ]
          },
          "metadata": {
            "tags": []
          }
        },
        {
          "output_type": "display_data",
          "data": {
            "text/html": [
              "<span style=\"color:cyan\"> |-Best step: 0</span>"
            ],
            "text/plain": [
              "<IPython.core.display.HTML object>"
            ]
          },
          "metadata": {
            "tags": []
          }
        },
        {
          "output_type": "display_data",
          "data": {
            "text/html": [
              "<span style=\"color:#7E57C2\"><h2 style=\"font-size:16px\">Hyperparameters:</h2></span>"
            ],
            "text/plain": [
              "<IPython.core.display.HTML object>"
            ]
          },
          "metadata": {
            "tags": []
          }
        },
        {
          "output_type": "display_data",
          "data": {
            "text/html": [
              "<span style=\"color:cyan\"> |-layer_input: 256</span>"
            ],
            "text/plain": [
              "<IPython.core.display.HTML object>"
            ]
          },
          "metadata": {
            "tags": []
          }
        },
        {
          "output_type": "display_data",
          "data": {
            "text/html": [
              "<span style=\"color:blue\"> |-layer_output: 32</span>"
            ],
            "text/plain": [
              "<IPython.core.display.HTML object>"
            ]
          },
          "metadata": {
            "tags": []
          }
        },
        {
          "output_type": "stream",
          "text": [
            "Epoch 1/7\n",
            "239/239 [==============================] - 3s 14ms/step - loss: 2.8450e-05 - val_loss: 6.0201e-04\n",
            "Epoch 2/7\n",
            "239/239 [==============================] - 2s 10ms/step - loss: 8.3559e-06 - val_loss: 7.1037e-04\n",
            "Epoch 3/7\n",
            "239/239 [==============================] - 2s 10ms/step - loss: 6.2926e-06 - val_loss: 3.9913e-04\n",
            "Epoch 4/7\n",
            "239/239 [==============================] - 2s 10ms/step - loss: 5.3564e-06 - val_loss: 2.4754e-04\n",
            "Epoch 5/7\n",
            "239/239 [==============================] - 2s 10ms/step - loss: 5.8268e-06 - val_loss: 3.5509e-04\n",
            "Epoch 6/7\n",
            "239/239 [==============================] - 2s 10ms/step - loss: 3.8093e-06 - val_loss: 2.5740e-04\n",
            "Epoch 7/7\n",
            "234/239 [============================>.] - ETA: 0s - loss: 4.9626e-06Restoring model weights from the end of the best epoch.\n",
            "239/239 [==============================] - 2s 10ms/step - loss: 4.9426e-06 - val_loss: 3.4036e-04\n",
            "Epoch 00007: early stopping\n"
          ],
          "name": "stdout"
        },
        {
          "output_type": "display_data",
          "data": {
            "text/html": [
              "<span style=\"color:#4527A0\"><h1 style=\"font-size:18px\">Trial complete</h1></span>"
            ],
            "text/plain": [
              "<IPython.core.display.HTML object>"
            ]
          },
          "metadata": {
            "tags": []
          }
        },
        {
          "output_type": "display_data",
          "data": {
            "text/html": [
              "<span style=\"color:#4527A0\"><h1 style=\"font-size:18px\">Trial summary</h1></span>"
            ],
            "text/plain": [
              "<IPython.core.display.HTML object>"
            ]
          },
          "metadata": {
            "tags": []
          }
        },
        {
          "output_type": "display_data",
          "data": {
            "text/html": [
              "<span style=\"color:cyan\"> |-Trial ID: 7f50bfc0e2c741741bf3e048cd015869</span>"
            ],
            "text/plain": [
              "<IPython.core.display.HTML object>"
            ]
          },
          "metadata": {
            "tags": []
          }
        },
        {
          "output_type": "display_data",
          "data": {
            "text/html": [
              "<span style=\"color:cyan\"> |-Score: 0.00024754361947998405</span>"
            ],
            "text/plain": [
              "<IPython.core.display.HTML object>"
            ]
          },
          "metadata": {
            "tags": []
          }
        },
        {
          "output_type": "display_data",
          "data": {
            "text/html": [
              "<span style=\"color:cyan\"> |-Best step: 0</span>"
            ],
            "text/plain": [
              "<IPython.core.display.HTML object>"
            ]
          },
          "metadata": {
            "tags": []
          }
        },
        {
          "output_type": "display_data",
          "data": {
            "text/html": [
              "<span style=\"color:#7E57C2\"><h2 style=\"font-size:16px\">Hyperparameters:</h2></span>"
            ],
            "text/plain": [
              "<IPython.core.display.HTML object>"
            ]
          },
          "metadata": {
            "tags": []
          }
        },
        {
          "output_type": "display_data",
          "data": {
            "text/html": [
              "<span style=\"color:cyan\"> |-layer_input: 224</span>"
            ],
            "text/plain": [
              "<IPython.core.display.HTML object>"
            ]
          },
          "metadata": {
            "tags": []
          }
        },
        {
          "output_type": "display_data",
          "data": {
            "text/html": [
              "<span style=\"color:blue\"> |-layer_output: 128</span>"
            ],
            "text/plain": [
              "<IPython.core.display.HTML object>"
            ]
          },
          "metadata": {
            "tags": []
          }
        },
        {
          "output_type": "stream",
          "text": [
            "Epoch 1/7\n",
            "239/239 [==============================] - 3s 13ms/step - loss: 3.7640e-05 - val_loss: 9.3722e-04\n",
            "Epoch 2/7\n",
            "239/239 [==============================] - 3s 11ms/step - loss: 8.8294e-06 - val_loss: 8.8388e-04\n",
            "Epoch 3/7\n",
            "239/239 [==============================] - 2s 10ms/step - loss: 5.7453e-06 - val_loss: 5.1052e-04\n",
            "Epoch 4/7\n",
            "239/239 [==============================] - 2s 10ms/step - loss: 6.1708e-06 - val_loss: 4.2458e-04\n",
            "Epoch 5/7\n",
            "239/239 [==============================] - 3s 11ms/step - loss: 4.6679e-06 - val_loss: 3.5824e-04\n",
            "Epoch 6/7\n",
            "239/239 [==============================] - 2s 10ms/step - loss: 3.9457e-06 - val_loss: 3.0943e-04\n",
            "Epoch 7/7\n",
            "239/239 [==============================] - 2s 10ms/step - loss: 4.1626e-06 - val_loss: 3.8334e-04\n"
          ],
          "name": "stdout"
        },
        {
          "output_type": "display_data",
          "data": {
            "text/html": [
              "<span style=\"color:#4527A0\"><h1 style=\"font-size:18px\">Trial complete</h1></span>"
            ],
            "text/plain": [
              "<IPython.core.display.HTML object>"
            ]
          },
          "metadata": {
            "tags": []
          }
        },
        {
          "output_type": "display_data",
          "data": {
            "text/html": [
              "<span style=\"color:#4527A0\"><h1 style=\"font-size:18px\">Trial summary</h1></span>"
            ],
            "text/plain": [
              "<IPython.core.display.HTML object>"
            ]
          },
          "metadata": {
            "tags": []
          }
        },
        {
          "output_type": "display_data",
          "data": {
            "text/html": [
              "<span style=\"color:cyan\"> |-Trial ID: 415d4e14c777539a32b7ec38d5fff009</span>"
            ],
            "text/plain": [
              "<IPython.core.display.HTML object>"
            ]
          },
          "metadata": {
            "tags": []
          }
        },
        {
          "output_type": "display_data",
          "data": {
            "text/html": [
              "<span style=\"color:cyan\"> |-Score: 0.00030943105230107903</span>"
            ],
            "text/plain": [
              "<IPython.core.display.HTML object>"
            ]
          },
          "metadata": {
            "tags": []
          }
        },
        {
          "output_type": "display_data",
          "data": {
            "text/html": [
              "<span style=\"color:cyan\"> |-Best step: 0</span>"
            ],
            "text/plain": [
              "<IPython.core.display.HTML object>"
            ]
          },
          "metadata": {
            "tags": []
          }
        },
        {
          "output_type": "display_data",
          "data": {
            "text/html": [
              "<span style=\"color:#7E57C2\"><h2 style=\"font-size:16px\">Hyperparameters:</h2></span>"
            ],
            "text/plain": [
              "<IPython.core.display.HTML object>"
            ]
          },
          "metadata": {
            "tags": []
          }
        },
        {
          "output_type": "display_data",
          "data": {
            "text/html": [
              "<span style=\"color:cyan\"> |-layer_input: 128</span>"
            ],
            "text/plain": [
              "<IPython.core.display.HTML object>"
            ]
          },
          "metadata": {
            "tags": []
          }
        },
        {
          "output_type": "display_data",
          "data": {
            "text/html": [
              "<span style=\"color:blue\"> |-layer_output: 192</span>"
            ],
            "text/plain": [
              "<IPython.core.display.HTML object>"
            ]
          },
          "metadata": {
            "tags": []
          }
        },
        {
          "output_type": "stream",
          "text": [
            "Epoch 1/7\n",
            "239/239 [==============================] - 3s 14ms/step - loss: 4.3752e-05 - val_loss: 8.4151e-04\n",
            "Epoch 2/7\n",
            "239/239 [==============================] - 2s 10ms/step - loss: 8.0314e-06 - val_loss: 7.6251e-04\n",
            "Epoch 3/7\n",
            "239/239 [==============================] - 2s 10ms/step - loss: 5.6773e-06 - val_loss: 4.8000e-04\n",
            "Epoch 4/7\n",
            "239/239 [==============================] - 3s 11ms/step - loss: 5.6277e-06 - val_loss: 4.4733e-04\n",
            "Epoch 5/7\n",
            "239/239 [==============================] - 2s 10ms/step - loss: 4.9985e-06 - val_loss: 3.4303e-04\n",
            "Epoch 6/7\n",
            "239/239 [==============================] - 2s 10ms/step - loss: 4.8953e-06 - val_loss: 3.7157e-04\n",
            "Epoch 7/7\n",
            "239/239 [==============================] - 2s 10ms/step - loss: 4.8743e-06 - val_loss: 3.6776e-04\n"
          ],
          "name": "stdout"
        },
        {
          "output_type": "display_data",
          "data": {
            "text/html": [
              "<span style=\"color:#4527A0\"><h1 style=\"font-size:18px\">Trial complete</h1></span>"
            ],
            "text/plain": [
              "<IPython.core.display.HTML object>"
            ]
          },
          "metadata": {
            "tags": []
          }
        },
        {
          "output_type": "display_data",
          "data": {
            "text/html": [
              "<span style=\"color:#4527A0\"><h1 style=\"font-size:18px\">Trial summary</h1></span>"
            ],
            "text/plain": [
              "<IPython.core.display.HTML object>"
            ]
          },
          "metadata": {
            "tags": []
          }
        },
        {
          "output_type": "display_data",
          "data": {
            "text/html": [
              "<span style=\"color:cyan\"> |-Trial ID: 951860b5e00bf77f471d768c5cdcf56c</span>"
            ],
            "text/plain": [
              "<IPython.core.display.HTML object>"
            ]
          },
          "metadata": {
            "tags": []
          }
        },
        {
          "output_type": "display_data",
          "data": {
            "text/html": [
              "<span style=\"color:cyan\"> |-Score: 0.00034303017309866846</span>"
            ],
            "text/plain": [
              "<IPython.core.display.HTML object>"
            ]
          },
          "metadata": {
            "tags": []
          }
        },
        {
          "output_type": "display_data",
          "data": {
            "text/html": [
              "<span style=\"color:cyan\"> |-Best step: 0</span>"
            ],
            "text/plain": [
              "<IPython.core.display.HTML object>"
            ]
          },
          "metadata": {
            "tags": []
          }
        },
        {
          "output_type": "display_data",
          "data": {
            "text/html": [
              "<span style=\"color:#7E57C2\"><h2 style=\"font-size:16px\">Hyperparameters:</h2></span>"
            ],
            "text/plain": [
              "<IPython.core.display.HTML object>"
            ]
          },
          "metadata": {
            "tags": []
          }
        },
        {
          "output_type": "display_data",
          "data": {
            "text/html": [
              "<span style=\"color:cyan\"> |-layer_input: 160</span>"
            ],
            "text/plain": [
              "<IPython.core.display.HTML object>"
            ]
          },
          "metadata": {
            "tags": []
          }
        },
        {
          "output_type": "display_data",
          "data": {
            "text/html": [
              "<span style=\"color:blue\"> |-layer_output: 128</span>"
            ],
            "text/plain": [
              "<IPython.core.display.HTML object>"
            ]
          },
          "metadata": {
            "tags": []
          }
        },
        {
          "output_type": "stream",
          "text": [
            "Epoch 1/7\n",
            "239/239 [==============================] - 3s 13ms/step - loss: 3.0174e-05 - val_loss: 5.6363e-04\n",
            "Epoch 2/7\n",
            "239/239 [==============================] - 2s 10ms/step - loss: 7.2039e-06 - val_loss: 5.8953e-04\n",
            "Epoch 3/7\n",
            "239/239 [==============================] - 2s 10ms/step - loss: 5.6234e-06 - val_loss: 4.4571e-04\n",
            "Epoch 4/7\n",
            "239/239 [==============================] - 3s 11ms/step - loss: 4.7764e-06 - val_loss: 3.5512e-04\n",
            "Epoch 5/7\n",
            "239/239 [==============================] - 2s 10ms/step - loss: 5.1868e-06 - val_loss: 5.9359e-04\n",
            "Epoch 6/7\n",
            "239/239 [==============================] - 2s 10ms/step - loss: 5.7401e-06 - val_loss: 3.5420e-04\n",
            "Epoch 7/7\n",
            "239/239 [==============================] - 2s 10ms/step - loss: 4.2445e-06 - val_loss: 4.0466e-04\n"
          ],
          "name": "stdout"
        },
        {
          "output_type": "display_data",
          "data": {
            "text/html": [
              "<span style=\"color:#4527A0\"><h1 style=\"font-size:18px\">Trial complete</h1></span>"
            ],
            "text/plain": [
              "<IPython.core.display.HTML object>"
            ]
          },
          "metadata": {
            "tags": []
          }
        },
        {
          "output_type": "display_data",
          "data": {
            "text/html": [
              "<span style=\"color:#4527A0\"><h1 style=\"font-size:18px\">Trial summary</h1></span>"
            ],
            "text/plain": [
              "<IPython.core.display.HTML object>"
            ]
          },
          "metadata": {
            "tags": []
          }
        },
        {
          "output_type": "display_data",
          "data": {
            "text/html": [
              "<span style=\"color:cyan\"> |-Trial ID: a9f1486c427544ea614849bf4bb4ead9</span>"
            ],
            "text/plain": [
              "<IPython.core.display.HTML object>"
            ]
          },
          "metadata": {
            "tags": []
          }
        },
        {
          "output_type": "display_data",
          "data": {
            "text/html": [
              "<span style=\"color:cyan\"> |-Score: 0.00035420144558884203</span>"
            ],
            "text/plain": [
              "<IPython.core.display.HTML object>"
            ]
          },
          "metadata": {
            "tags": []
          }
        },
        {
          "output_type": "display_data",
          "data": {
            "text/html": [
              "<span style=\"color:cyan\"> |-Best step: 0</span>"
            ],
            "text/plain": [
              "<IPython.core.display.HTML object>"
            ]
          },
          "metadata": {
            "tags": []
          }
        },
        {
          "output_type": "display_data",
          "data": {
            "text/html": [
              "<span style=\"color:#7E57C2\"><h2 style=\"font-size:16px\">Hyperparameters:</h2></span>"
            ],
            "text/plain": [
              "<IPython.core.display.HTML object>"
            ]
          },
          "metadata": {
            "tags": []
          }
        },
        {
          "output_type": "display_data",
          "data": {
            "text/html": [
              "<span style=\"color:cyan\"> |-layer_input: 224</span>"
            ],
            "text/plain": [
              "<IPython.core.display.HTML object>"
            ]
          },
          "metadata": {
            "tags": []
          }
        },
        {
          "output_type": "display_data",
          "data": {
            "text/html": [
              "<span style=\"color:blue\"> |-layer_output: 160</span>"
            ],
            "text/plain": [
              "<IPython.core.display.HTML object>"
            ]
          },
          "metadata": {
            "tags": []
          }
        },
        {
          "output_type": "stream",
          "text": [
            "Epoch 1/7\n",
            "239/239 [==============================] - 3s 13ms/step - loss: 2.9937e-05 - val_loss: 9.5685e-04\n",
            "Epoch 2/7\n",
            "239/239 [==============================] - 2s 10ms/step - loss: 8.1470e-06 - val_loss: 6.9145e-04\n",
            "Epoch 3/7\n",
            "239/239 [==============================] - 2s 10ms/step - loss: 6.4611e-06 - val_loss: 6.6665e-04\n",
            "Epoch 4/7\n",
            "239/239 [==============================] - 2s 10ms/step - loss: 6.1729e-06 - val_loss: 4.8325e-04\n",
            "Epoch 5/7\n",
            "239/239 [==============================] - 2s 10ms/step - loss: 5.2452e-06 - val_loss: 3.9407e-04\n",
            "Epoch 6/7\n",
            "239/239 [==============================] - 2s 10ms/step - loss: 5.0325e-06 - val_loss: 4.2050e-04\n",
            "Epoch 7/7\n",
            "239/239 [==============================] - 2s 10ms/step - loss: 4.7901e-06 - val_loss: 2.9343e-04\n"
          ],
          "name": "stdout"
        },
        {
          "output_type": "display_data",
          "data": {
            "text/html": [
              "<span style=\"color:#4527A0\"><h1 style=\"font-size:18px\">Trial complete</h1></span>"
            ],
            "text/plain": [
              "<IPython.core.display.HTML object>"
            ]
          },
          "metadata": {
            "tags": []
          }
        },
        {
          "output_type": "display_data",
          "data": {
            "text/html": [
              "<span style=\"color:#4527A0\"><h1 style=\"font-size:18px\">Trial summary</h1></span>"
            ],
            "text/plain": [
              "<IPython.core.display.HTML object>"
            ]
          },
          "metadata": {
            "tags": []
          }
        },
        {
          "output_type": "display_data",
          "data": {
            "text/html": [
              "<span style=\"color:cyan\"> |-Trial ID: 5a9bfa166f2cc32a80f21d71ac30c395</span>"
            ],
            "text/plain": [
              "<IPython.core.display.HTML object>"
            ]
          },
          "metadata": {
            "tags": []
          }
        },
        {
          "output_type": "display_data",
          "data": {
            "text/html": [
              "<span style=\"color:cyan\"> |-Score: 0.00029342560446821153</span>"
            ],
            "text/plain": [
              "<IPython.core.display.HTML object>"
            ]
          },
          "metadata": {
            "tags": []
          }
        },
        {
          "output_type": "display_data",
          "data": {
            "text/html": [
              "<span style=\"color:cyan\"> |-Best step: 0</span>"
            ],
            "text/plain": [
              "<IPython.core.display.HTML object>"
            ]
          },
          "metadata": {
            "tags": []
          }
        },
        {
          "output_type": "display_data",
          "data": {
            "text/html": [
              "<span style=\"color:#7E57C2\"><h2 style=\"font-size:16px\">Hyperparameters:</h2></span>"
            ],
            "text/plain": [
              "<IPython.core.display.HTML object>"
            ]
          },
          "metadata": {
            "tags": []
          }
        },
        {
          "output_type": "display_data",
          "data": {
            "text/html": [
              "<span style=\"color:cyan\"> |-layer_input: 224</span>"
            ],
            "text/plain": [
              "<IPython.core.display.HTML object>"
            ]
          },
          "metadata": {
            "tags": []
          }
        },
        {
          "output_type": "display_data",
          "data": {
            "text/html": [
              "<span style=\"color:blue\"> |-layer_output: 32</span>"
            ],
            "text/plain": [
              "<IPython.core.display.HTML object>"
            ]
          },
          "metadata": {
            "tags": []
          }
        },
        {
          "output_type": "stream",
          "text": [
            "Epoch 1/7\n",
            "239/239 [==============================] - 3s 13ms/step - loss: 3.4175e-05 - val_loss: 6.0248e-04\n",
            "Epoch 2/7\n",
            "239/239 [==============================] - 3s 11ms/step - loss: 7.9318e-06 - val_loss: 4.7094e-04\n",
            "Epoch 3/7\n",
            "239/239 [==============================] - 3s 11ms/step - loss: 6.1129e-06 - val_loss: 4.3902e-04\n",
            "Epoch 4/7\n",
            "239/239 [==============================] - 2s 10ms/step - loss: 5.8073e-06 - val_loss: 5.4608e-04\n",
            "Epoch 5/7\n",
            "239/239 [==============================] - 2s 10ms/step - loss: 4.6914e-06 - val_loss: 3.0458e-04\n",
            "Epoch 6/7\n",
            "239/239 [==============================] - 2s 10ms/step - loss: 4.6913e-06 - val_loss: 5.4269e-04\n",
            "Epoch 7/7\n",
            "239/239 [==============================] - 2s 10ms/step - loss: 3.8536e-06 - val_loss: 3.1567e-04\n"
          ],
          "name": "stdout"
        },
        {
          "output_type": "display_data",
          "data": {
            "text/html": [
              "<span style=\"color:#4527A0\"><h1 style=\"font-size:18px\">Trial complete</h1></span>"
            ],
            "text/plain": [
              "<IPython.core.display.HTML object>"
            ]
          },
          "metadata": {
            "tags": []
          }
        },
        {
          "output_type": "display_data",
          "data": {
            "text/html": [
              "<span style=\"color:#4527A0\"><h1 style=\"font-size:18px\">Trial summary</h1></span>"
            ],
            "text/plain": [
              "<IPython.core.display.HTML object>"
            ]
          },
          "metadata": {
            "tags": []
          }
        },
        {
          "output_type": "display_data",
          "data": {
            "text/html": [
              "<span style=\"color:cyan\"> |-Trial ID: 7f1ba6286e4de8a8bfa382222ff9cd94</span>"
            ],
            "text/plain": [
              "<IPython.core.display.HTML object>"
            ]
          },
          "metadata": {
            "tags": []
          }
        },
        {
          "output_type": "display_data",
          "data": {
            "text/html": [
              "<span style=\"color:cyan\"> |-Score: 0.0003045786579605192</span>"
            ],
            "text/plain": [
              "<IPython.core.display.HTML object>"
            ]
          },
          "metadata": {
            "tags": []
          }
        },
        {
          "output_type": "display_data",
          "data": {
            "text/html": [
              "<span style=\"color:cyan\"> |-Best step: 0</span>"
            ],
            "text/plain": [
              "<IPython.core.display.HTML object>"
            ]
          },
          "metadata": {
            "tags": []
          }
        },
        {
          "output_type": "display_data",
          "data": {
            "text/html": [
              "<span style=\"color:#7E57C2\"><h2 style=\"font-size:16px\">Hyperparameters:</h2></span>"
            ],
            "text/plain": [
              "<IPython.core.display.HTML object>"
            ]
          },
          "metadata": {
            "tags": []
          }
        },
        {
          "output_type": "display_data",
          "data": {
            "text/html": [
              "<span style=\"color:cyan\"> |-layer_input: 128</span>"
            ],
            "text/plain": [
              "<IPython.core.display.HTML object>"
            ]
          },
          "metadata": {
            "tags": []
          }
        },
        {
          "output_type": "display_data",
          "data": {
            "text/html": [
              "<span style=\"color:blue\"> |-layer_output: 256</span>"
            ],
            "text/plain": [
              "<IPython.core.display.HTML object>"
            ]
          },
          "metadata": {
            "tags": []
          }
        },
        {
          "output_type": "stream",
          "text": [
            "Epoch 1/7\n",
            "239/239 [==============================] - 3s 14ms/step - loss: 5.1389e-05 - val_loss: 6.3810e-04\n",
            "Epoch 2/7\n",
            "239/239 [==============================] - 3s 11ms/step - loss: 9.0864e-06 - val_loss: 5.4710e-04\n",
            "Epoch 3/7\n",
            "239/239 [==============================] - 3s 11ms/step - loss: 6.0018e-06 - val_loss: 4.6237e-04\n",
            "Epoch 4/7\n",
            "239/239 [==============================] - 2s 10ms/step - loss: 6.0251e-06 - val_loss: 3.0854e-04\n",
            "Epoch 5/7\n",
            "239/239 [==============================] - 2s 10ms/step - loss: 3.9358e-06 - val_loss: 1.7726e-04\n",
            "Epoch 6/7\n",
            "239/239 [==============================] - 2s 10ms/step - loss: 5.8296e-06 - val_loss: 3.3293e-04\n",
            "Epoch 7/7\n",
            "239/239 [==============================] - 2s 10ms/step - loss: 3.6779e-06 - val_loss: 4.0082e-04\n"
          ],
          "name": "stdout"
        },
        {
          "output_type": "display_data",
          "data": {
            "text/html": [
              "<span style=\"color:#4527A0\"><h1 style=\"font-size:18px\">Trial complete</h1></span>"
            ],
            "text/plain": [
              "<IPython.core.display.HTML object>"
            ]
          },
          "metadata": {
            "tags": []
          }
        },
        {
          "output_type": "display_data",
          "data": {
            "text/html": [
              "<span style=\"color:#4527A0\"><h1 style=\"font-size:18px\">Trial summary</h1></span>"
            ],
            "text/plain": [
              "<IPython.core.display.HTML object>"
            ]
          },
          "metadata": {
            "tags": []
          }
        },
        {
          "output_type": "display_data",
          "data": {
            "text/html": [
              "<span style=\"color:cyan\"> |-Trial ID: 50a1ae68c12b643201d742ff5d1f7bb6</span>"
            ],
            "text/plain": [
              "<IPython.core.display.HTML object>"
            ]
          },
          "metadata": {
            "tags": []
          }
        },
        {
          "output_type": "display_data",
          "data": {
            "text/html": [
              "<span style=\"color:cyan\"> |-Score: 0.00017726191435940564</span>"
            ],
            "text/plain": [
              "<IPython.core.display.HTML object>"
            ]
          },
          "metadata": {
            "tags": []
          }
        },
        {
          "output_type": "display_data",
          "data": {
            "text/html": [
              "<span style=\"color:cyan\"> |-Best step: 0</span>"
            ],
            "text/plain": [
              "<IPython.core.display.HTML object>"
            ]
          },
          "metadata": {
            "tags": []
          }
        },
        {
          "output_type": "display_data",
          "data": {
            "text/html": [
              "<span style=\"color:#7E57C2\"><h2 style=\"font-size:16px\">Hyperparameters:</h2></span>"
            ],
            "text/plain": [
              "<IPython.core.display.HTML object>"
            ]
          },
          "metadata": {
            "tags": []
          }
        },
        {
          "output_type": "display_data",
          "data": {
            "text/html": [
              "<span style=\"color:cyan\"> |-layer_input: 192</span>"
            ],
            "text/plain": [
              "<IPython.core.display.HTML object>"
            ]
          },
          "metadata": {
            "tags": []
          }
        },
        {
          "output_type": "display_data",
          "data": {
            "text/html": [
              "<span style=\"color:blue\"> |-layer_output: 192</span>"
            ],
            "text/plain": [
              "<IPython.core.display.HTML object>"
            ]
          },
          "metadata": {
            "tags": []
          }
        },
        {
          "output_type": "stream",
          "text": [
            "Epoch 1/7\n",
            "239/239 [==============================] - 3s 13ms/step - loss: 4.1368e-05 - val_loss: 0.0010\n",
            "Epoch 2/7\n",
            "239/239 [==============================] - 2s 10ms/step - loss: 7.2486e-06 - val_loss: 6.6237e-04\n",
            "Epoch 3/7\n",
            "239/239 [==============================] - 2s 10ms/step - loss: 7.3058e-06 - val_loss: 6.6839e-04\n",
            "Epoch 4/7\n",
            "239/239 [==============================] - 3s 11ms/step - loss: 5.1483e-06 - val_loss: 5.4045e-04\n",
            "Epoch 5/7\n",
            "239/239 [==============================] - 3s 11ms/step - loss: 5.3745e-06 - val_loss: 5.0767e-04\n",
            "Epoch 6/7\n",
            "239/239 [==============================] - 2s 10ms/step - loss: 4.1256e-06 - val_loss: 4.7849e-04\n",
            "Epoch 7/7\n",
            "239/239 [==============================] - 3s 11ms/step - loss: 4.1046e-06 - val_loss: 2.7135e-04\n"
          ],
          "name": "stdout"
        },
        {
          "output_type": "display_data",
          "data": {
            "text/html": [
              "<span style=\"color:#4527A0\"><h1 style=\"font-size:18px\">Trial complete</h1></span>"
            ],
            "text/plain": [
              "<IPython.core.display.HTML object>"
            ]
          },
          "metadata": {
            "tags": []
          }
        },
        {
          "output_type": "display_data",
          "data": {
            "text/html": [
              "<span style=\"color:#4527A0\"><h1 style=\"font-size:18px\">Trial summary</h1></span>"
            ],
            "text/plain": [
              "<IPython.core.display.HTML object>"
            ]
          },
          "metadata": {
            "tags": []
          }
        },
        {
          "output_type": "display_data",
          "data": {
            "text/html": [
              "<span style=\"color:cyan\"> |-Trial ID: c6a688cb23e247ee6f5a520347e5dd70</span>"
            ],
            "text/plain": [
              "<IPython.core.display.HTML object>"
            ]
          },
          "metadata": {
            "tags": []
          }
        },
        {
          "output_type": "display_data",
          "data": {
            "text/html": [
              "<span style=\"color:cyan\"> |-Score: 0.0002713527646847069</span>"
            ],
            "text/plain": [
              "<IPython.core.display.HTML object>"
            ]
          },
          "metadata": {
            "tags": []
          }
        },
        {
          "output_type": "display_data",
          "data": {
            "text/html": [
              "<span style=\"color:cyan\"> |-Best step: 0</span>"
            ],
            "text/plain": [
              "<IPython.core.display.HTML object>"
            ]
          },
          "metadata": {
            "tags": []
          }
        },
        {
          "output_type": "display_data",
          "data": {
            "text/html": [
              "<span style=\"color:#7E57C2\"><h2 style=\"font-size:16px\">Hyperparameters:</h2></span>"
            ],
            "text/plain": [
              "<IPython.core.display.HTML object>"
            ]
          },
          "metadata": {
            "tags": []
          }
        },
        {
          "output_type": "display_data",
          "data": {
            "text/html": [
              "<span style=\"color:cyan\"> |-layer_input: 256</span>"
            ],
            "text/plain": [
              "<IPython.core.display.HTML object>"
            ]
          },
          "metadata": {
            "tags": []
          }
        },
        {
          "output_type": "display_data",
          "data": {
            "text/html": [
              "<span style=\"color:blue\"> |-layer_output: 160</span>"
            ],
            "text/plain": [
              "<IPython.core.display.HTML object>"
            ]
          },
          "metadata": {
            "tags": []
          }
        },
        {
          "output_type": "stream",
          "text": [
            "Epoch 1/7\n",
            "239/239 [==============================] - 3s 12ms/step - loss: 6.2538e-05 - val_loss: 8.8394e-04\n",
            "Epoch 2/7\n",
            "239/239 [==============================] - 2s 9ms/step - loss: 6.9321e-06 - val_loss: 8.8988e-04\n",
            "Epoch 3/7\n",
            "239/239 [==============================] - 2s 9ms/step - loss: 7.6543e-06 - val_loss: 9.1836e-04\n",
            "Epoch 4/7\n",
            "239/239 [==============================] - 2s 10ms/step - loss: 6.0455e-06 - val_loss: 5.1804e-04\n",
            "Epoch 5/7\n",
            "239/239 [==============================] - 2s 10ms/step - loss: 5.9266e-06 - val_loss: 6.0106e-04\n",
            "Epoch 6/7\n",
            "239/239 [==============================] - 2s 10ms/step - loss: 5.0952e-06 - val_loss: 4.0618e-04\n",
            "Epoch 7/7\n",
            "239/239 [==============================] - 2s 10ms/step - loss: 4.5006e-06 - val_loss: 3.9924e-04\n"
          ],
          "name": "stdout"
        },
        {
          "output_type": "display_data",
          "data": {
            "text/html": [
              "<span style=\"color:#4527A0\"><h1 style=\"font-size:18px\">Trial complete</h1></span>"
            ],
            "text/plain": [
              "<IPython.core.display.HTML object>"
            ]
          },
          "metadata": {
            "tags": []
          }
        },
        {
          "output_type": "display_data",
          "data": {
            "text/html": [
              "<span style=\"color:#4527A0\"><h1 style=\"font-size:18px\">Trial summary</h1></span>"
            ],
            "text/plain": [
              "<IPython.core.display.HTML object>"
            ]
          },
          "metadata": {
            "tags": []
          }
        },
        {
          "output_type": "display_data",
          "data": {
            "text/html": [
              "<span style=\"color:cyan\"> |-Trial ID: 883a5288b8f6b7cb1a282d19d36e2657</span>"
            ],
            "text/plain": [
              "<IPython.core.display.HTML object>"
            ]
          },
          "metadata": {
            "tags": []
          }
        },
        {
          "output_type": "display_data",
          "data": {
            "text/html": [
              "<span style=\"color:cyan\"> |-Score: 0.00039924305747263134</span>"
            ],
            "text/plain": [
              "<IPython.core.display.HTML object>"
            ]
          },
          "metadata": {
            "tags": []
          }
        },
        {
          "output_type": "display_data",
          "data": {
            "text/html": [
              "<span style=\"color:cyan\"> |-Best step: 0</span>"
            ],
            "text/plain": [
              "<IPython.core.display.HTML object>"
            ]
          },
          "metadata": {
            "tags": []
          }
        },
        {
          "output_type": "display_data",
          "data": {
            "text/html": [
              "<span style=\"color:#7E57C2\"><h2 style=\"font-size:16px\">Hyperparameters:</h2></span>"
            ],
            "text/plain": [
              "<IPython.core.display.HTML object>"
            ]
          },
          "metadata": {
            "tags": []
          }
        },
        {
          "output_type": "display_data",
          "data": {
            "text/html": [
              "<span style=\"color:cyan\"> |-layer_input: 64</span>"
            ],
            "text/plain": [
              "<IPython.core.display.HTML object>"
            ]
          },
          "metadata": {
            "tags": []
          }
        },
        {
          "output_type": "display_data",
          "data": {
            "text/html": [
              "<span style=\"color:blue\"> |-layer_output: 96</span>"
            ],
            "text/plain": [
              "<IPython.core.display.HTML object>"
            ]
          },
          "metadata": {
            "tags": []
          }
        },
        {
          "output_type": "stream",
          "text": [
            "Epoch 1/7\n",
            "239/239 [==============================] - 3s 13ms/step - loss: 5.7393e-05 - val_loss: 4.6907e-04\n",
            "Epoch 2/7\n",
            "239/239 [==============================] - 2s 10ms/step - loss: 7.2870e-06 - val_loss: 6.9550e-04\n",
            "Epoch 3/7\n",
            "239/239 [==============================] - 2s 10ms/step - loss: 7.1944e-06 - val_loss: 5.2577e-04\n",
            "Epoch 4/7\n",
            "239/239 [==============================] - 2s 10ms/step - loss: 5.6224e-06 - val_loss: 4.2816e-04\n",
            "Epoch 5/7\n",
            "239/239 [==============================] - 2s 10ms/step - loss: 4.4635e-06 - val_loss: 4.7689e-04\n",
            "Epoch 6/7\n",
            "239/239 [==============================] - 3s 11ms/step - loss: 5.1510e-06 - val_loss: 1.9145e-04\n",
            "Epoch 7/7\n",
            "239/239 [==============================] - 2s 10ms/step - loss: 4.4315e-06 - val_loss: 3.9587e-04\n"
          ],
          "name": "stdout"
        },
        {
          "output_type": "display_data",
          "data": {
            "text/html": [
              "<span style=\"color:#4527A0\"><h1 style=\"font-size:18px\">Trial complete</h1></span>"
            ],
            "text/plain": [
              "<IPython.core.display.HTML object>"
            ]
          },
          "metadata": {
            "tags": []
          }
        },
        {
          "output_type": "display_data",
          "data": {
            "text/html": [
              "<span style=\"color:#4527A0\"><h1 style=\"font-size:18px\">Trial summary</h1></span>"
            ],
            "text/plain": [
              "<IPython.core.display.HTML object>"
            ]
          },
          "metadata": {
            "tags": []
          }
        },
        {
          "output_type": "display_data",
          "data": {
            "text/html": [
              "<span style=\"color:cyan\"> |-Trial ID: 9be14d849dae555b091011d80396cea0</span>"
            ],
            "text/plain": [
              "<IPython.core.display.HTML object>"
            ]
          },
          "metadata": {
            "tags": []
          }
        },
        {
          "output_type": "display_data",
          "data": {
            "text/html": [
              "<span style=\"color:cyan\"> |-Score: 0.00019144517136737704</span>"
            ],
            "text/plain": [
              "<IPython.core.display.HTML object>"
            ]
          },
          "metadata": {
            "tags": []
          }
        },
        {
          "output_type": "display_data",
          "data": {
            "text/html": [
              "<span style=\"color:cyan\"> |-Best step: 0</span>"
            ],
            "text/plain": [
              "<IPython.core.display.HTML object>"
            ]
          },
          "metadata": {
            "tags": []
          }
        },
        {
          "output_type": "display_data",
          "data": {
            "text/html": [
              "<span style=\"color:#7E57C2\"><h2 style=\"font-size:16px\">Hyperparameters:</h2></span>"
            ],
            "text/plain": [
              "<IPython.core.display.HTML object>"
            ]
          },
          "metadata": {
            "tags": []
          }
        },
        {
          "output_type": "display_data",
          "data": {
            "text/html": [
              "<span style=\"color:cyan\"> |-layer_input: 256</span>"
            ],
            "text/plain": [
              "<IPython.core.display.HTML object>"
            ]
          },
          "metadata": {
            "tags": []
          }
        },
        {
          "output_type": "display_data",
          "data": {
            "text/html": [
              "<span style=\"color:blue\"> |-layer_output: 128</span>"
            ],
            "text/plain": [
              "<IPython.core.display.HTML object>"
            ]
          },
          "metadata": {
            "tags": []
          }
        },
        {
          "output_type": "stream",
          "text": [
            "Epoch 1/7\n",
            "239/239 [==============================] - 3s 14ms/step - loss: 3.1268e-05 - val_loss: 0.0013\n",
            "Epoch 2/7\n",
            "239/239 [==============================] - 2s 9ms/step - loss: 6.6069e-06 - val_loss: 8.0947e-04\n",
            "Epoch 3/7\n",
            "239/239 [==============================] - 2s 9ms/step - loss: 6.2854e-06 - val_loss: 8.4053e-04\n",
            "Epoch 4/7\n",
            "239/239 [==============================] - 2s 10ms/step - loss: 6.2949e-06 - val_loss: 5.8637e-04\n",
            "Epoch 5/7\n",
            "239/239 [==============================] - 2s 10ms/step - loss: 4.5172e-06 - val_loss: 4.2822e-04\n",
            "Epoch 6/7\n",
            "239/239 [==============================] - 2s 9ms/step - loss: 5.5307e-06 - val_loss: 2.6037e-04\n",
            "Epoch 7/7\n",
            "239/239 [==============================] - 2s 9ms/step - loss: 4.3997e-06 - val_loss: 3.9364e-04\n"
          ],
          "name": "stdout"
        },
        {
          "output_type": "display_data",
          "data": {
            "text/html": [
              "<span style=\"color:#4527A0\"><h1 style=\"font-size:18px\">Trial complete</h1></span>"
            ],
            "text/plain": [
              "<IPython.core.display.HTML object>"
            ]
          },
          "metadata": {
            "tags": []
          }
        },
        {
          "output_type": "display_data",
          "data": {
            "text/html": [
              "<span style=\"color:#4527A0\"><h1 style=\"font-size:18px\">Trial summary</h1></span>"
            ],
            "text/plain": [
              "<IPython.core.display.HTML object>"
            ]
          },
          "metadata": {
            "tags": []
          }
        },
        {
          "output_type": "display_data",
          "data": {
            "text/html": [
              "<span style=\"color:cyan\"> |-Trial ID: f27aadeb34c03dacfce1055d46b795e4</span>"
            ],
            "text/plain": [
              "<IPython.core.display.HTML object>"
            ]
          },
          "metadata": {
            "tags": []
          }
        },
        {
          "output_type": "display_data",
          "data": {
            "text/html": [
              "<span style=\"color:cyan\"> |-Score: 0.0002603650209493935</span>"
            ],
            "text/plain": [
              "<IPython.core.display.HTML object>"
            ]
          },
          "metadata": {
            "tags": []
          }
        },
        {
          "output_type": "display_data",
          "data": {
            "text/html": [
              "<span style=\"color:cyan\"> |-Best step: 0</span>"
            ],
            "text/plain": [
              "<IPython.core.display.HTML object>"
            ]
          },
          "metadata": {
            "tags": []
          }
        },
        {
          "output_type": "display_data",
          "data": {
            "text/html": [
              "<span style=\"color:#7E57C2\"><h2 style=\"font-size:16px\">Hyperparameters:</h2></span>"
            ],
            "text/plain": [
              "<IPython.core.display.HTML object>"
            ]
          },
          "metadata": {
            "tags": []
          }
        },
        {
          "output_type": "display_data",
          "data": {
            "text/html": [
              "<span style=\"color:cyan\"> |-layer_input: 64</span>"
            ],
            "text/plain": [
              "<IPython.core.display.HTML object>"
            ]
          },
          "metadata": {
            "tags": []
          }
        },
        {
          "output_type": "display_data",
          "data": {
            "text/html": [
              "<span style=\"color:blue\"> |-layer_output: 64</span>"
            ],
            "text/plain": [
              "<IPython.core.display.HTML object>"
            ]
          },
          "metadata": {
            "tags": []
          }
        },
        {
          "output_type": "stream",
          "text": [
            "Epoch 1/7\n",
            "239/239 [==============================] - 3s 14ms/step - loss: 2.4947e-05 - val_loss: 5.2024e-04\n",
            "Epoch 2/7\n",
            "239/239 [==============================] - 3s 11ms/step - loss: 8.0187e-06 - val_loss: 3.8455e-04\n",
            "Epoch 3/7\n",
            "239/239 [==============================] - 2s 10ms/step - loss: 6.8954e-06 - val_loss: 4.0709e-04\n",
            "Epoch 4/7\n",
            "239/239 [==============================] - 2s 10ms/step - loss: 5.3640e-06 - val_loss: 4.0449e-04\n",
            "Epoch 5/7\n",
            "234/239 [============================>.] - ETA: 0s - loss: 4.2585e-06Restoring model weights from the end of the best epoch.\n",
            "239/239 [==============================] - 3s 10ms/step - loss: 4.2293e-06 - val_loss: 4.6784e-04\n",
            "Epoch 00005: early stopping\n"
          ],
          "name": "stdout"
        },
        {
          "output_type": "display_data",
          "data": {
            "text/html": [
              "<span style=\"color:#4527A0\"><h1 style=\"font-size:18px\">Trial complete</h1></span>"
            ],
            "text/plain": [
              "<IPython.core.display.HTML object>"
            ]
          },
          "metadata": {
            "tags": []
          }
        },
        {
          "output_type": "display_data",
          "data": {
            "text/html": [
              "<span style=\"color:#4527A0\"><h1 style=\"font-size:18px\">Trial summary</h1></span>"
            ],
            "text/plain": [
              "<IPython.core.display.HTML object>"
            ]
          },
          "metadata": {
            "tags": []
          }
        },
        {
          "output_type": "display_data",
          "data": {
            "text/html": [
              "<span style=\"color:cyan\"> |-Trial ID: 9e7a6a584fcf65b4880f3e60bb09dce0</span>"
            ],
            "text/plain": [
              "<IPython.core.display.HTML object>"
            ]
          },
          "metadata": {
            "tags": []
          }
        },
        {
          "output_type": "display_data",
          "data": {
            "text/html": [
              "<span style=\"color:cyan\"> |-Score: 0.00038454672903753817</span>"
            ],
            "text/plain": [
              "<IPython.core.display.HTML object>"
            ]
          },
          "metadata": {
            "tags": []
          }
        },
        {
          "output_type": "display_data",
          "data": {
            "text/html": [
              "<span style=\"color:cyan\"> |-Best step: 0</span>"
            ],
            "text/plain": [
              "<IPython.core.display.HTML object>"
            ]
          },
          "metadata": {
            "tags": []
          }
        },
        {
          "output_type": "display_data",
          "data": {
            "text/html": [
              "<span style=\"color:#7E57C2\"><h2 style=\"font-size:16px\">Hyperparameters:</h2></span>"
            ],
            "text/plain": [
              "<IPython.core.display.HTML object>"
            ]
          },
          "metadata": {
            "tags": []
          }
        },
        {
          "output_type": "display_data",
          "data": {
            "text/html": [
              "<span style=\"color:cyan\"> |-layer_input: 256</span>"
            ],
            "text/plain": [
              "<IPython.core.display.HTML object>"
            ]
          },
          "metadata": {
            "tags": []
          }
        },
        {
          "output_type": "display_data",
          "data": {
            "text/html": [
              "<span style=\"color:blue\"> |-layer_output: 192</span>"
            ],
            "text/plain": [
              "<IPython.core.display.HTML object>"
            ]
          },
          "metadata": {
            "tags": []
          }
        },
        {
          "output_type": "stream",
          "text": [
            "INFO:tensorflow:Oracle triggered exit\n"
          ],
          "name": "stdout"
        }
      ]
    },
    {
      "cell_type": "code",
      "metadata": {
        "id": "648sMcf_3bQE",
        "colab": {
          "base_uri": "https://localhost:8080/",
          "height": 377
        },
        "outputId": "32802e26-9b15-40df-e6a9-57c999c35d1b"
      },
      "source": [
        "# Getting, compiling and viewing the architecture of the best model \n",
        "models = tuner.get_best_models(num_models=1)\n",
        "models[0].compile(loss='mse', optimizer='adam')\n",
        "models[0].summary()\n",
        "model = models[0]"
      ],
      "execution_count": null,
      "outputs": [
        {
          "output_type": "stream",
          "text": [
            "WARNING:tensorflow:Unresolved object in checkpoint: (root).optimizer.iter\n",
            "WARNING:tensorflow:Unresolved object in checkpoint: (root).optimizer.beta_1\n",
            "WARNING:tensorflow:Unresolved object in checkpoint: (root).optimizer.beta_2\n",
            "WARNING:tensorflow:Unresolved object in checkpoint: (root).optimizer.decay\n",
            "WARNING:tensorflow:Unresolved object in checkpoint: (root).optimizer.learning_rate\n",
            "WARNING:tensorflow:A checkpoint was restored (e.g. tf.train.Checkpoint.restore or tf.keras.Model.load_weights) but not all checkpointed values were used. See above for specific issues. Use expect_partial() on the load status object, e.g. tf.train.Checkpoint.restore(...).expect_partial(), to silence these warnings, or use assert_consumed() to make the check explicit. See https://www.tensorflow.org/guide/checkpoint#loading_mechanics for details.\n",
            "Model: \"sequential\"\n",
            "_________________________________________________________________\n",
            "Layer (type)                 Output Shape              Param #   \n",
            "=================================================================\n",
            "lstm (LSTM)                  (None, 60, 160)           106240    \n",
            "_________________________________________________________________\n",
            "lstm_1 (LSTM)                (None, 192)               271104    \n",
            "_________________________________________________________________\n",
            "dense (Dense)                (None, 5)                 965       \n",
            "=================================================================\n",
            "Total params: 378,309\n",
            "Trainable params: 378,309\n",
            "Non-trainable params: 0\n",
            "_________________________________________________________________\n"
          ],
          "name": "stdout"
        }
      ]
    },
    {
      "cell_type": "code",
      "metadata": {
        "id": "4DrEhEhrFnEX",
        "colab": {
          "base_uri": "https://localhost:8080/",
          "height": 272
        },
        "outputId": "e70c3cbf-773f-4e14-d07b-085740667afa"
      },
      "source": [
        "# Rebuilding the resulting model \n",
        "model = Sequential()\n",
        "model.add(LSTM(160, return_sequences=True, input_shape=(num_steps_back, num_features)))\n",
        "model.add(LSTM(192))\n",
        "model.add(Dense(num_features))\n",
        "model.compile(optimizer='adam', loss='mse')\n",
        "model.summary()"
      ],
      "execution_count": null,
      "outputs": [
        {
          "output_type": "stream",
          "text": [
            "Model: \"sequential_3\"\n",
            "_________________________________________________________________\n",
            "Layer (type)                 Output Shape              Param #   \n",
            "=================================================================\n",
            "lstm_6 (LSTM)                (None, 60, 160)           106240    \n",
            "_________________________________________________________________\n",
            "lstm_7 (LSTM)                (None, 192)               271104    \n",
            "_________________________________________________________________\n",
            "dense_3 (Dense)              (None, 5)                 965       \n",
            "=================================================================\n",
            "Total params: 378,309\n",
            "Trainable params: 378,309\n",
            "Non-trainable params: 0\n",
            "_________________________________________________________________\n"
          ],
          "name": "stdout"
        }
      ]
    },
    {
      "cell_type": "code",
      "metadata": {
        "id": "4PlvIXCrbPzS",
        "colab": {
          "base_uri": "https://localhost:8080/",
          "height": 708
        },
        "outputId": "30620db7-718d-4bd7-cbd1-a2666a95e301"
      },
      "source": [
        "# Launching full training of the resulting model\n",
        "es = EarlyStopping(monitor='val_loss', mode='min', verbose=1, patience=3, restore_best_weights=True)\n",
        "callbacks_list = [es]\n",
        "train = model.fit(X, y, epochs=20, validation_split=0.1, callbacks=callbacks_list)"
      ],
      "execution_count": null,
      "outputs": [
        {
          "output_type": "stream",
          "text": [
            "Epoch 1/20\n",
            "239/239 [==============================] - 4s 16ms/step - loss: 3.6711e-05 - val_loss: 6.6672e-04\n",
            "Epoch 2/20\n",
            "239/239 [==============================] - 3s 13ms/step - loss: 9.3986e-06 - val_loss: 6.9532e-04\n",
            "Epoch 3/20\n",
            "239/239 [==============================] - 3s 13ms/step - loss: 6.3556e-06 - val_loss: 5.4074e-04\n",
            "Epoch 4/20\n",
            "239/239 [==============================] - 3s 13ms/step - loss: 6.5207e-06 - val_loss: 3.8229e-04\n",
            "Epoch 5/20\n",
            "239/239 [==============================] - 3s 13ms/step - loss: 4.4997e-06 - val_loss: 3.6868e-04\n",
            "Epoch 6/20\n",
            "239/239 [==============================] - 3s 13ms/step - loss: 3.8853e-06 - val_loss: 2.7490e-04\n",
            "Epoch 7/20\n",
            "239/239 [==============================] - 3s 13ms/step - loss: 4.1709e-06 - val_loss: 3.0596e-04\n",
            "Epoch 8/20\n",
            "239/239 [==============================] - 3s 13ms/step - loss: 4.3230e-06 - val_loss: 2.6510e-04\n",
            "Epoch 9/20\n",
            "239/239 [==============================] - 3s 13ms/step - loss: 3.2221e-06 - val_loss: 1.8354e-04\n",
            "Epoch 10/20\n",
            "239/239 [==============================] - 3s 13ms/step - loss: 3.3544e-06 - val_loss: 1.6976e-04\n",
            "Epoch 11/20\n",
            "239/239 [==============================] - 3s 13ms/step - loss: 2.7644e-06 - val_loss: 1.8749e-04\n",
            "Epoch 12/20\n",
            "239/239 [==============================] - 3s 13ms/step - loss: 3.2779e-06 - val_loss: 0.0010\n",
            "Epoch 13/20\n",
            "239/239 [==============================] - 3s 13ms/step - loss: 3.6624e-06 - val_loss: 1.4271e-04\n",
            "Epoch 14/20\n",
            "239/239 [==============================] - 3s 13ms/step - loss: 2.1292e-06 - val_loss: 1.7900e-04\n",
            "Epoch 15/20\n",
            "239/239 [==============================] - 3s 13ms/step - loss: 2.0076e-06 - val_loss: 8.1741e-05\n",
            "Epoch 16/20\n",
            "239/239 [==============================] - 3s 13ms/step - loss: 2.6832e-06 - val_loss: 1.8696e-04\n",
            "Epoch 17/20\n",
            "239/239 [==============================] - 3s 13ms/step - loss: 2.0798e-06 - val_loss: 1.5547e-04\n",
            "Epoch 18/20\n",
            "239/239 [==============================] - ETA: 0s - loss: 2.3299e-06Restoring model weights from the end of the best epoch.\n",
            "239/239 [==============================] - 3s 13ms/step - loss: 2.3299e-06 - val_loss: 1.8545e-04\n",
            "Epoch 00018: early stopping\n"
          ],
          "name": "stdout"
        }
      ]
    },
    {
      "cell_type": "code",
      "metadata": {
        "id": "5GIpoMDJWdOe",
        "colab": {
          "base_uri": "https://localhost:8080/",
          "height": 35
        },
        "outputId": "54418d75-f961-4e4b-da59-65b94008d552"
      },
      "source": [
        "# Evaluation the Model on test data\n",
        "scores = model.evaluate(test_X, test_Y)"
      ],
      "execution_count": null,
      "outputs": [
        {
          "output_type": "stream",
          "text": [
            "28/28 [==============================] - 0s 6ms/step - loss: 7.6602e-04\n"
          ],
          "name": "stdout"
        }
      ]
    },
    {
      "cell_type": "code",
      "metadata": {
        "id": "Xn1dcwjWUpY-",
        "colab": {
          "base_uri": "https://localhost:8080/",
          "height": 295
        },
        "outputId": "ed01e506-e0df-4e76-f088-56cb3192c92d"
      },
      "source": [
        "# Showing history of training\n",
        "plt.plot(train.history['loss'])\n",
        "plt.plot(train.history['val_loss'])\n",
        "plt.title('Loss History')\n",
        "plt.ylabel('Loss')\n",
        "plt.xlabel('Epoch')\n",
        "plt.legend(['Train', 'Validation'])\n",
        "plt.show()"
      ],
      "execution_count": null,
      "outputs": [
        {
          "output_type": "display_data",
          "data": {
            "image/png": "[encoded data removed]",
            "text/plain": [
              "<Figure size 432x288 with 1 Axes>"
            ]
          },
          "metadata": {
            "tags": [],
            "needs_background": "light"
          }
        }
      ]
    },
    {
      "cell_type": "code",
      "metadata": {
        "id": "7Cj5DTG9bmxb"
      },
      "source": [
        "# Using inverse scaling for right prediction on test data\n",
        "y_pred = sc.inverse_transform(model.predict(test_X)) # getting a prediction\n",
        "test_Y = sc.inverse_transform(test_Y) # Inversion for Y of the test data"
      ],
      "execution_count": null,
      "outputs": []
    },
    {
      "cell_type": "code",
      "metadata": {
        "id": "tAT0npu7Yq7G"
      },
      "source": [
        "# Getting the required dates for plotting\n",
        "date_X, date_Y = split_sequences(np.reshape(np.array(date_time[int(n*0.9):]), (-1,1)), num_steps_back)"
      ],
      "execution_count": null,
      "outputs": []
    },
    {
      "cell_type": "code",
      "metadata": {
        "id": "_ABW2r71b4ed",
        "colab": {
          "base_uri": "https://localhost:8080/",
          "height": 884
        },
        "outputId": "f9710fa7-1b3c-40b7-c1c5-d5fda7289e7a"
      },
      "source": [
        "# Plotting\n",
        "num_col = 4; # choosing the feature\n",
        "plt.figure(dpi= 100, facecolor='w', edgecolor='k')\n",
        "plt.plot(date_Y[:,0], test_Y[:,num_col], color = 'blue', label = 'Real Stock Price')\n",
        "plt.plot(y_pred[:,num_col], color = 'red', label = 'Predicted Stock Price')\n",
        "plt.title('Stock Price Prediction')\n",
        "plt.xlabel('Time')\n",
        "plt.ylabel('Stock Price')\n",
        "plt.legend()\n",
        "plt.xticks(np.arange(0, len(date_Y[:,0]), 80), rotation=90);\n",
        "plt.show()\n",
        "\n",
        "period = -1 # choosing period position of 60 days\n",
        "test_period = sc.inverse_transform(test_X[period,:])[:, num_col] # getting the last test 60 days because period = -1\n",
        "plt.figure(dpi= 100, facecolor='w', edgecolor='k')\n",
        "plt.plot(date_X[period, :][:, 0], test_period,'b', label = 'Stock Price For The Previous 60 Days')\n",
        "plt.plot(num_steps_back, test_Y[period, num_col], 'bo', color = 'green' , label = 'Real Stock Price The Next Day')\n",
        "plt.plot(num_steps_back, y_pred[period, num_col], 'bo', color = 'red', label = 'Predicted Stock Price The Next Day')\n",
        "plt.title('Stock Price Prediction')\n",
        "plt.xticks(rotation=90, size = 5)\n",
        "plt.xlabel('Time')\n",
        "plt.ylabel('Stock Price')\n",
        "plt.legend()\n",
        "plt.show()"
      ],
      "execution_count": null,
      "outputs": [
        {
          "output_type": "display_data",
          "data": {
            "image/png": "[encoded data removed]",
            "text/plain": [
              "<Figure size 600x400 with 1 Axes>"
            ]
          },
          "metadata": {
            "tags": []
          }
        },
        {
          "output_type": "display_data",
          "data": {
            "image/png": "[encoded data removed]",
            "text/plain": [
              "<Figure size 600x400 with 1 Axes>"
            ]
          },
          "metadata": {
            "tags": []
          }
        }
      ]
    }
  ]
}